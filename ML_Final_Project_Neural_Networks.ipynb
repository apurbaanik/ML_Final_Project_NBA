{
  "nbformat": 4,
  "nbformat_minor": 0,
  "metadata": {
    "colab": {
      "provenance": [],
      "include_colab_link": true
    },
    "kernelspec": {
      "name": "python3",
      "display_name": "Python 3"
    },
    "language_info": {
      "name": "python"
    }
  },
  "cells": [
    {
      "cell_type": "markdown",
      "metadata": {
        "id": "view-in-github",
        "colab_type": "text"
      },
      "source": [
        "<a href=\"https://colab.research.google.com/github/apurbaanik/ML_Final_Project_NBA/blob/main/ML_Final_Project_Neural_Networks.ipynb\" target=\"_parent\"><img src=\"https://colab.research.google.com/assets/colab-badge.svg\" alt=\"Open In Colab\"/></a>"
      ]
    },
    {
      "cell_type": "markdown",
      "source": [
        "## Machine Learning Final Project - NBA Champion Prediction Based on Regular Season Stats\n",
        "\n",
        "---\n",
        "\n",
        "\n",
        "- Team: Anik Barua, Kashyapa Jayasekera\n",
        "- CS-UY 4563 B\n",
        "- Date: 12-07-2022"
      ],
      "metadata": {
        "id": "i9VwTFoBCtC7"
      }
    },
    {
      "cell_type": "code",
      "source": [
        "import numpy as np\n",
        "import pandas as pd\n",
        "import matplotlib.pyplot as plt\n",
        "from sklearn import preprocessing\n",
        "from sklearn.preprocessing import StandardScaler, OneHotEncoder\n",
        "from sklearn.model_selection import train_test_split, cross_val_score, KFold\n",
        "from sklearn.metrics import accuracy_score, confusion_matrix, classification_report\n",
        "%matplotlib inline"
      ],
      "metadata": {
        "id": "Xbv66TVtCx6h"
      },
      "execution_count": 1,
      "outputs": []
    },
    {
      "cell_type": "markdown",
      "source": [
        "## Part 1: Loading the dataset"
      ],
      "metadata": {
        "id": "mzGyTwUeC10V"
      }
    },
    {
      "cell_type": "code",
      "source": [
        "data = 'https://raw.githubusercontent.com/apurbaanik/ML_Final_Project_NBA/main/NBA_Team_Stats.csv'\n",
        "df = pd.read_csv(data)\n",
        "df.head(20)"
      ],
      "metadata": {
        "colab": {
          "base_uri": "https://localhost:8080/",
          "height": 677
        },
        "id": "tA-pfe67C2fT",
        "outputId": "a256f91e-1f5e-4dd2-811c-5fe1f5dc81e6"
      },
      "execution_count": 2,
      "outputs": [
        {
          "output_type": "execute_result",
          "data": {
            "text/plain": [
              "    No         Team    G   Min    Pts   Reb   Ast  Stl  Blk    To    Pf  Dreb  \\\n",
              "0    1      Chicago  103  48.4   96.0  44.1  23.1  8.6  4.3  13.0  21.1  29.2   \n",
              "1    2         Utah  102  48.3   98.6  40.8  24.7  7.6  4.8  14.7  24.3  29.5   \n",
              "2    3      Phoenix   86  48.6   99.3  41.9  25.6  9.2  5.3  14.4  21.7  29.8   \n",
              "3    4   L.A.Lakers   95  48.3  104.8  42.9  24.3  8.7  6.8  14.7  22.9  29.7   \n",
              "4    5  San Antonio   91  48.4   92.5  44.1  21.9  6.2  6.9  15.3  21.2  32.2   \n",
              "5    6      Indiana   98  48.4   95.3  38.6  22.4  7.8  4.5  13.6  23.0  28.2   \n",
              "6    7        Miami   87  48.2   94.5  41.7  21.1  8.0  5.2  14.2  24.2  29.4   \n",
              "7    8      Seattle   92  48.2  100.0  38.5  24.0  9.7  4.5  13.4  22.3  27.0   \n",
              "8    9      Atlanta   86  48.5   95.5  42.8  19.0  8.0  5.9  14.0  20.5  29.5   \n",
              "9   10     New York   92  48.4   91.3  41.4  21.5  7.8  3.2  14.7  24.1  29.6   \n",
              "10  11    Cleveland   86  48.3   92.0  39.8  22.9  9.9  5.0  16.6  23.7  28.2   \n",
              "11  12    Charlotte   91  48.2   95.3  40.1  23.4  8.2  3.7  14.4  21.4  28.4   \n",
              "12  13     Portland   86  48.3   94.6  43.9  21.7  7.1  5.6  16.2  23.0  30.6   \n",
              "13  14    Minnesota   87  48.6  100.5  42.4  25.1  7.8  5.1  13.5  22.9  29.4   \n",
              "14  15   Washington   82  48.3   97.2  42.2  23.2  8.4  4.6  13.5  22.4  28.5   \n",
              "15  16      Detroit   82  48.7   94.2  41.2  19.5  8.3  4.2  13.8  22.0  28.5   \n",
              "16  17   New Jersey   85  48.5   99.5  42.3  20.4  9.4  3.8  13.6  23.5  26.1   \n",
              "17  18    Milwaukee   82  48.6   94.5  39.9  20.1  8.9  4.3  16.2  23.4  27.3   \n",
              "18  19      Orlando   82  48.4   90.1  41.2  20.7  7.9  5.4  14.9  19.7  26.9   \n",
              "19  20      Houston   87  48.3   98.0  40.8  21.6  8.3  3.7  15.1  20.4  28.8   \n",
              "\n",
              "    Oreb  FGPct  3PPct  FTPct    Eff  Deff       Year  Won  \n",
              "0   14.9  0.449  0.323  0.741  111.6  17.5  1997-1998  Yes  \n",
              "1   11.3  0.483  0.368  0.768  116.3  17.5  1997-1998   No  \n",
              "2   12.1  0.466  0.355  0.747  117.1  13.6  1997-1998   No  \n",
              "3   13.2  0.480  0.350  0.675  120.8  13.2  1997-1998   No  \n",
              "4   11.9  0.468  0.344  0.688  108.0  13.1  1997-1998   No  \n",
              "5   10.4  0.468  0.387  0.763  109.0  12.2  1997-1998   No  \n",
              "6   12.3  0.449  0.355  0.735  107.4  10.0  1997-1998   No  \n",
              "7   11.5  0.471  0.390  0.724  114.5   9.4  1997-1998   No  \n",
              "8   13.4  0.454  0.335  0.753  108.1   7.3  1997-1998   No  \n",
              "9   11.8  0.446  0.341  0.771  102.3   7.2  1997-1998   No  \n",
              "10  11.6  0.453  0.370  0.754  105.2   6.8  1997-1998   No  \n",
              "11  11.7  0.467  0.376  0.746  108.7   4.4  1997-1998   No  \n",
              "12  13.3  0.451  0.313  0.738  106.7   4.1  1997-1998   No  \n",
              "13  13.0  0.459  0.350  0.742  115.3   3.5  1997-1998   No  \n",
              "14  13.7  0.452  0.339  0.691  108.4   1.5  1997-1998   No  \n",
              "15  12.7  0.449  0.312  0.745  103.6   0.5  1997-1998   No  \n",
              "16  16.2  0.442  0.331  0.745  107.5  -2.0  1997-1998   No  \n",
              "17  12.6  0.456  0.354  0.767  103.0  -3.8  1997-1998   No  \n",
              "18  14.4  0.429  0.323  0.726   98.3  -5.5  1997-1998   No  \n",
              "19  12.0  0.449  0.339  0.768  107.5  -5.8  1997-1998   No  "
            ],
            "text/html": [
              "\n",
              "  <div id=\"df-45006f9a-5564-4551-b483-3bf4624cffda\">\n",
              "    <div class=\"colab-df-container\">\n",
              "      <div>\n",
              "<style scoped>\n",
              "    .dataframe tbody tr th:only-of-type {\n",
              "        vertical-align: middle;\n",
              "    }\n",
              "\n",
              "    .dataframe tbody tr th {\n",
              "        vertical-align: top;\n",
              "    }\n",
              "\n",
              "    .dataframe thead th {\n",
              "        text-align: right;\n",
              "    }\n",
              "</style>\n",
              "<table border=\"1\" class=\"dataframe\">\n",
              "  <thead>\n",
              "    <tr style=\"text-align: right;\">\n",
              "      <th></th>\n",
              "      <th>No</th>\n",
              "      <th>Team</th>\n",
              "      <th>G</th>\n",
              "      <th>Min</th>\n",
              "      <th>Pts</th>\n",
              "      <th>Reb</th>\n",
              "      <th>Ast</th>\n",
              "      <th>Stl</th>\n",
              "      <th>Blk</th>\n",
              "      <th>To</th>\n",
              "      <th>Pf</th>\n",
              "      <th>Dreb</th>\n",
              "      <th>Oreb</th>\n",
              "      <th>FGPct</th>\n",
              "      <th>3PPct</th>\n",
              "      <th>FTPct</th>\n",
              "      <th>Eff</th>\n",
              "      <th>Deff</th>\n",
              "      <th>Year</th>\n",
              "      <th>Won</th>\n",
              "    </tr>\n",
              "  </thead>\n",
              "  <tbody>\n",
              "    <tr>\n",
              "      <th>0</th>\n",
              "      <td>1</td>\n",
              "      <td>Chicago</td>\n",
              "      <td>103</td>\n",
              "      <td>48.4</td>\n",
              "      <td>96.0</td>\n",
              "      <td>44.1</td>\n",
              "      <td>23.1</td>\n",
              "      <td>8.6</td>\n",
              "      <td>4.3</td>\n",
              "      <td>13.0</td>\n",
              "      <td>21.1</td>\n",
              "      <td>29.2</td>\n",
              "      <td>14.9</td>\n",
              "      <td>0.449</td>\n",
              "      <td>0.323</td>\n",
              "      <td>0.741</td>\n",
              "      <td>111.6</td>\n",
              "      <td>17.5</td>\n",
              "      <td>1997-1998</td>\n",
              "      <td>Yes</td>\n",
              "    </tr>\n",
              "    <tr>\n",
              "      <th>1</th>\n",
              "      <td>2</td>\n",
              "      <td>Utah</td>\n",
              "      <td>102</td>\n",
              "      <td>48.3</td>\n",
              "      <td>98.6</td>\n",
              "      <td>40.8</td>\n",
              "      <td>24.7</td>\n",
              "      <td>7.6</td>\n",
              "      <td>4.8</td>\n",
              "      <td>14.7</td>\n",
              "      <td>24.3</td>\n",
              "      <td>29.5</td>\n",
              "      <td>11.3</td>\n",
              "      <td>0.483</td>\n",
              "      <td>0.368</td>\n",
              "      <td>0.768</td>\n",
              "      <td>116.3</td>\n",
              "      <td>17.5</td>\n",
              "      <td>1997-1998</td>\n",
              "      <td>No</td>\n",
              "    </tr>\n",
              "    <tr>\n",
              "      <th>2</th>\n",
              "      <td>3</td>\n",
              "      <td>Phoenix</td>\n",
              "      <td>86</td>\n",
              "      <td>48.6</td>\n",
              "      <td>99.3</td>\n",
              "      <td>41.9</td>\n",
              "      <td>25.6</td>\n",
              "      <td>9.2</td>\n",
              "      <td>5.3</td>\n",
              "      <td>14.4</td>\n",
              "      <td>21.7</td>\n",
              "      <td>29.8</td>\n",
              "      <td>12.1</td>\n",
              "      <td>0.466</td>\n",
              "      <td>0.355</td>\n",
              "      <td>0.747</td>\n",
              "      <td>117.1</td>\n",
              "      <td>13.6</td>\n",
              "      <td>1997-1998</td>\n",
              "      <td>No</td>\n",
              "    </tr>\n",
              "    <tr>\n",
              "      <th>3</th>\n",
              "      <td>4</td>\n",
              "      <td>L.A.Lakers</td>\n",
              "      <td>95</td>\n",
              "      <td>48.3</td>\n",
              "      <td>104.8</td>\n",
              "      <td>42.9</td>\n",
              "      <td>24.3</td>\n",
              "      <td>8.7</td>\n",
              "      <td>6.8</td>\n",
              "      <td>14.7</td>\n",
              "      <td>22.9</td>\n",
              "      <td>29.7</td>\n",
              "      <td>13.2</td>\n",
              "      <td>0.480</td>\n",
              "      <td>0.350</td>\n",
              "      <td>0.675</td>\n",
              "      <td>120.8</td>\n",
              "      <td>13.2</td>\n",
              "      <td>1997-1998</td>\n",
              "      <td>No</td>\n",
              "    </tr>\n",
              "    <tr>\n",
              "      <th>4</th>\n",
              "      <td>5</td>\n",
              "      <td>San Antonio</td>\n",
              "      <td>91</td>\n",
              "      <td>48.4</td>\n",
              "      <td>92.5</td>\n",
              "      <td>44.1</td>\n",
              "      <td>21.9</td>\n",
              "      <td>6.2</td>\n",
              "      <td>6.9</td>\n",
              "      <td>15.3</td>\n",
              "      <td>21.2</td>\n",
              "      <td>32.2</td>\n",
              "      <td>11.9</td>\n",
              "      <td>0.468</td>\n",
              "      <td>0.344</td>\n",
              "      <td>0.688</td>\n",
              "      <td>108.0</td>\n",
              "      <td>13.1</td>\n",
              "      <td>1997-1998</td>\n",
              "      <td>No</td>\n",
              "    </tr>\n",
              "    <tr>\n",
              "      <th>5</th>\n",
              "      <td>6</td>\n",
              "      <td>Indiana</td>\n",
              "      <td>98</td>\n",
              "      <td>48.4</td>\n",
              "      <td>95.3</td>\n",
              "      <td>38.6</td>\n",
              "      <td>22.4</td>\n",
              "      <td>7.8</td>\n",
              "      <td>4.5</td>\n",
              "      <td>13.6</td>\n",
              "      <td>23.0</td>\n",
              "      <td>28.2</td>\n",
              "      <td>10.4</td>\n",
              "      <td>0.468</td>\n",
              "      <td>0.387</td>\n",
              "      <td>0.763</td>\n",
              "      <td>109.0</td>\n",
              "      <td>12.2</td>\n",
              "      <td>1997-1998</td>\n",
              "      <td>No</td>\n",
              "    </tr>\n",
              "    <tr>\n",
              "      <th>6</th>\n",
              "      <td>7</td>\n",
              "      <td>Miami</td>\n",
              "      <td>87</td>\n",
              "      <td>48.2</td>\n",
              "      <td>94.5</td>\n",
              "      <td>41.7</td>\n",
              "      <td>21.1</td>\n",
              "      <td>8.0</td>\n",
              "      <td>5.2</td>\n",
              "      <td>14.2</td>\n",
              "      <td>24.2</td>\n",
              "      <td>29.4</td>\n",
              "      <td>12.3</td>\n",
              "      <td>0.449</td>\n",
              "      <td>0.355</td>\n",
              "      <td>0.735</td>\n",
              "      <td>107.4</td>\n",
              "      <td>10.0</td>\n",
              "      <td>1997-1998</td>\n",
              "      <td>No</td>\n",
              "    </tr>\n",
              "    <tr>\n",
              "      <th>7</th>\n",
              "      <td>8</td>\n",
              "      <td>Seattle</td>\n",
              "      <td>92</td>\n",
              "      <td>48.2</td>\n",
              "      <td>100.0</td>\n",
              "      <td>38.5</td>\n",
              "      <td>24.0</td>\n",
              "      <td>9.7</td>\n",
              "      <td>4.5</td>\n",
              "      <td>13.4</td>\n",
              "      <td>22.3</td>\n",
              "      <td>27.0</td>\n",
              "      <td>11.5</td>\n",
              "      <td>0.471</td>\n",
              "      <td>0.390</td>\n",
              "      <td>0.724</td>\n",
              "      <td>114.5</td>\n",
              "      <td>9.4</td>\n",
              "      <td>1997-1998</td>\n",
              "      <td>No</td>\n",
              "    </tr>\n",
              "    <tr>\n",
              "      <th>8</th>\n",
              "      <td>9</td>\n",
              "      <td>Atlanta</td>\n",
              "      <td>86</td>\n",
              "      <td>48.5</td>\n",
              "      <td>95.5</td>\n",
              "      <td>42.8</td>\n",
              "      <td>19.0</td>\n",
              "      <td>8.0</td>\n",
              "      <td>5.9</td>\n",
              "      <td>14.0</td>\n",
              "      <td>20.5</td>\n",
              "      <td>29.5</td>\n",
              "      <td>13.4</td>\n",
              "      <td>0.454</td>\n",
              "      <td>0.335</td>\n",
              "      <td>0.753</td>\n",
              "      <td>108.1</td>\n",
              "      <td>7.3</td>\n",
              "      <td>1997-1998</td>\n",
              "      <td>No</td>\n",
              "    </tr>\n",
              "    <tr>\n",
              "      <th>9</th>\n",
              "      <td>10</td>\n",
              "      <td>New York</td>\n",
              "      <td>92</td>\n",
              "      <td>48.4</td>\n",
              "      <td>91.3</td>\n",
              "      <td>41.4</td>\n",
              "      <td>21.5</td>\n",
              "      <td>7.8</td>\n",
              "      <td>3.2</td>\n",
              "      <td>14.7</td>\n",
              "      <td>24.1</td>\n",
              "      <td>29.6</td>\n",
              "      <td>11.8</td>\n",
              "      <td>0.446</td>\n",
              "      <td>0.341</td>\n",
              "      <td>0.771</td>\n",
              "      <td>102.3</td>\n",
              "      <td>7.2</td>\n",
              "      <td>1997-1998</td>\n",
              "      <td>No</td>\n",
              "    </tr>\n",
              "    <tr>\n",
              "      <th>10</th>\n",
              "      <td>11</td>\n",
              "      <td>Cleveland</td>\n",
              "      <td>86</td>\n",
              "      <td>48.3</td>\n",
              "      <td>92.0</td>\n",
              "      <td>39.8</td>\n",
              "      <td>22.9</td>\n",
              "      <td>9.9</td>\n",
              "      <td>5.0</td>\n",
              "      <td>16.6</td>\n",
              "      <td>23.7</td>\n",
              "      <td>28.2</td>\n",
              "      <td>11.6</td>\n",
              "      <td>0.453</td>\n",
              "      <td>0.370</td>\n",
              "      <td>0.754</td>\n",
              "      <td>105.2</td>\n",
              "      <td>6.8</td>\n",
              "      <td>1997-1998</td>\n",
              "      <td>No</td>\n",
              "    </tr>\n",
              "    <tr>\n",
              "      <th>11</th>\n",
              "      <td>12</td>\n",
              "      <td>Charlotte</td>\n",
              "      <td>91</td>\n",
              "      <td>48.2</td>\n",
              "      <td>95.3</td>\n",
              "      <td>40.1</td>\n",
              "      <td>23.4</td>\n",
              "      <td>8.2</td>\n",
              "      <td>3.7</td>\n",
              "      <td>14.4</td>\n",
              "      <td>21.4</td>\n",
              "      <td>28.4</td>\n",
              "      <td>11.7</td>\n",
              "      <td>0.467</td>\n",
              "      <td>0.376</td>\n",
              "      <td>0.746</td>\n",
              "      <td>108.7</td>\n",
              "      <td>4.4</td>\n",
              "      <td>1997-1998</td>\n",
              "      <td>No</td>\n",
              "    </tr>\n",
              "    <tr>\n",
              "      <th>12</th>\n",
              "      <td>13</td>\n",
              "      <td>Portland</td>\n",
              "      <td>86</td>\n",
              "      <td>48.3</td>\n",
              "      <td>94.6</td>\n",
              "      <td>43.9</td>\n",
              "      <td>21.7</td>\n",
              "      <td>7.1</td>\n",
              "      <td>5.6</td>\n",
              "      <td>16.2</td>\n",
              "      <td>23.0</td>\n",
              "      <td>30.6</td>\n",
              "      <td>13.3</td>\n",
              "      <td>0.451</td>\n",
              "      <td>0.313</td>\n",
              "      <td>0.738</td>\n",
              "      <td>106.7</td>\n",
              "      <td>4.1</td>\n",
              "      <td>1997-1998</td>\n",
              "      <td>No</td>\n",
              "    </tr>\n",
              "    <tr>\n",
              "      <th>13</th>\n",
              "      <td>14</td>\n",
              "      <td>Minnesota</td>\n",
              "      <td>87</td>\n",
              "      <td>48.6</td>\n",
              "      <td>100.5</td>\n",
              "      <td>42.4</td>\n",
              "      <td>25.1</td>\n",
              "      <td>7.8</td>\n",
              "      <td>5.1</td>\n",
              "      <td>13.5</td>\n",
              "      <td>22.9</td>\n",
              "      <td>29.4</td>\n",
              "      <td>13.0</td>\n",
              "      <td>0.459</td>\n",
              "      <td>0.350</td>\n",
              "      <td>0.742</td>\n",
              "      <td>115.3</td>\n",
              "      <td>3.5</td>\n",
              "      <td>1997-1998</td>\n",
              "      <td>No</td>\n",
              "    </tr>\n",
              "    <tr>\n",
              "      <th>14</th>\n",
              "      <td>15</td>\n",
              "      <td>Washington</td>\n",
              "      <td>82</td>\n",
              "      <td>48.3</td>\n",
              "      <td>97.2</td>\n",
              "      <td>42.2</td>\n",
              "      <td>23.2</td>\n",
              "      <td>8.4</td>\n",
              "      <td>4.6</td>\n",
              "      <td>13.5</td>\n",
              "      <td>22.4</td>\n",
              "      <td>28.5</td>\n",
              "      <td>13.7</td>\n",
              "      <td>0.452</td>\n",
              "      <td>0.339</td>\n",
              "      <td>0.691</td>\n",
              "      <td>108.4</td>\n",
              "      <td>1.5</td>\n",
              "      <td>1997-1998</td>\n",
              "      <td>No</td>\n",
              "    </tr>\n",
              "    <tr>\n",
              "      <th>15</th>\n",
              "      <td>16</td>\n",
              "      <td>Detroit</td>\n",
              "      <td>82</td>\n",
              "      <td>48.7</td>\n",
              "      <td>94.2</td>\n",
              "      <td>41.2</td>\n",
              "      <td>19.5</td>\n",
              "      <td>8.3</td>\n",
              "      <td>4.2</td>\n",
              "      <td>13.8</td>\n",
              "      <td>22.0</td>\n",
              "      <td>28.5</td>\n",
              "      <td>12.7</td>\n",
              "      <td>0.449</td>\n",
              "      <td>0.312</td>\n",
              "      <td>0.745</td>\n",
              "      <td>103.6</td>\n",
              "      <td>0.5</td>\n",
              "      <td>1997-1998</td>\n",
              "      <td>No</td>\n",
              "    </tr>\n",
              "    <tr>\n",
              "      <th>16</th>\n",
              "      <td>17</td>\n",
              "      <td>New Jersey</td>\n",
              "      <td>85</td>\n",
              "      <td>48.5</td>\n",
              "      <td>99.5</td>\n",
              "      <td>42.3</td>\n",
              "      <td>20.4</td>\n",
              "      <td>9.4</td>\n",
              "      <td>3.8</td>\n",
              "      <td>13.6</td>\n",
              "      <td>23.5</td>\n",
              "      <td>26.1</td>\n",
              "      <td>16.2</td>\n",
              "      <td>0.442</td>\n",
              "      <td>0.331</td>\n",
              "      <td>0.745</td>\n",
              "      <td>107.5</td>\n",
              "      <td>-2.0</td>\n",
              "      <td>1997-1998</td>\n",
              "      <td>No</td>\n",
              "    </tr>\n",
              "    <tr>\n",
              "      <th>17</th>\n",
              "      <td>18</td>\n",
              "      <td>Milwaukee</td>\n",
              "      <td>82</td>\n",
              "      <td>48.6</td>\n",
              "      <td>94.5</td>\n",
              "      <td>39.9</td>\n",
              "      <td>20.1</td>\n",
              "      <td>8.9</td>\n",
              "      <td>4.3</td>\n",
              "      <td>16.2</td>\n",
              "      <td>23.4</td>\n",
              "      <td>27.3</td>\n",
              "      <td>12.6</td>\n",
              "      <td>0.456</td>\n",
              "      <td>0.354</td>\n",
              "      <td>0.767</td>\n",
              "      <td>103.0</td>\n",
              "      <td>-3.8</td>\n",
              "      <td>1997-1998</td>\n",
              "      <td>No</td>\n",
              "    </tr>\n",
              "    <tr>\n",
              "      <th>18</th>\n",
              "      <td>19</td>\n",
              "      <td>Orlando</td>\n",
              "      <td>82</td>\n",
              "      <td>48.4</td>\n",
              "      <td>90.1</td>\n",
              "      <td>41.2</td>\n",
              "      <td>20.7</td>\n",
              "      <td>7.9</td>\n",
              "      <td>5.4</td>\n",
              "      <td>14.9</td>\n",
              "      <td>19.7</td>\n",
              "      <td>26.9</td>\n",
              "      <td>14.4</td>\n",
              "      <td>0.429</td>\n",
              "      <td>0.323</td>\n",
              "      <td>0.726</td>\n",
              "      <td>98.3</td>\n",
              "      <td>-5.5</td>\n",
              "      <td>1997-1998</td>\n",
              "      <td>No</td>\n",
              "    </tr>\n",
              "    <tr>\n",
              "      <th>19</th>\n",
              "      <td>20</td>\n",
              "      <td>Houston</td>\n",
              "      <td>87</td>\n",
              "      <td>48.3</td>\n",
              "      <td>98.0</td>\n",
              "      <td>40.8</td>\n",
              "      <td>21.6</td>\n",
              "      <td>8.3</td>\n",
              "      <td>3.7</td>\n",
              "      <td>15.1</td>\n",
              "      <td>20.4</td>\n",
              "      <td>28.8</td>\n",
              "      <td>12.0</td>\n",
              "      <td>0.449</td>\n",
              "      <td>0.339</td>\n",
              "      <td>0.768</td>\n",
              "      <td>107.5</td>\n",
              "      <td>-5.8</td>\n",
              "      <td>1997-1998</td>\n",
              "      <td>No</td>\n",
              "    </tr>\n",
              "  </tbody>\n",
              "</table>\n",
              "</div>\n",
              "      <button class=\"colab-df-convert\" onclick=\"convertToInteractive('df-45006f9a-5564-4551-b483-3bf4624cffda')\"\n",
              "              title=\"Convert this dataframe to an interactive table.\"\n",
              "              style=\"display:none;\">\n",
              "        \n",
              "  <svg xmlns=\"http://www.w3.org/2000/svg\" height=\"24px\"viewBox=\"0 0 24 24\"\n",
              "       width=\"24px\">\n",
              "    <path d=\"M0 0h24v24H0V0z\" fill=\"none\"/>\n",
              "    <path d=\"M18.56 5.44l.94 2.06.94-2.06 2.06-.94-2.06-.94-.94-2.06-.94 2.06-2.06.94zm-11 1L8.5 8.5l.94-2.06 2.06-.94-2.06-.94L8.5 2.5l-.94 2.06-2.06.94zm10 10l.94 2.06.94-2.06 2.06-.94-2.06-.94-.94-2.06-.94 2.06-2.06.94z\"/><path d=\"M17.41 7.96l-1.37-1.37c-.4-.4-.92-.59-1.43-.59-.52 0-1.04.2-1.43.59L10.3 9.45l-7.72 7.72c-.78.78-.78 2.05 0 2.83L4 21.41c.39.39.9.59 1.41.59.51 0 1.02-.2 1.41-.59l7.78-7.78 2.81-2.81c.8-.78.8-2.07 0-2.86zM5.41 20L4 18.59l7.72-7.72 1.47 1.35L5.41 20z\"/>\n",
              "  </svg>\n",
              "      </button>\n",
              "      \n",
              "  <style>\n",
              "    .colab-df-container {\n",
              "      display:flex;\n",
              "      flex-wrap:wrap;\n",
              "      gap: 12px;\n",
              "    }\n",
              "\n",
              "    .colab-df-convert {\n",
              "      background-color: #E8F0FE;\n",
              "      border: none;\n",
              "      border-radius: 50%;\n",
              "      cursor: pointer;\n",
              "      display: none;\n",
              "      fill: #1967D2;\n",
              "      height: 32px;\n",
              "      padding: 0 0 0 0;\n",
              "      width: 32px;\n",
              "    }\n",
              "\n",
              "    .colab-df-convert:hover {\n",
              "      background-color: #E2EBFA;\n",
              "      box-shadow: 0px 1px 2px rgba(60, 64, 67, 0.3), 0px 1px 3px 1px rgba(60, 64, 67, 0.15);\n",
              "      fill: #174EA6;\n",
              "    }\n",
              "\n",
              "    [theme=dark] .colab-df-convert {\n",
              "      background-color: #3B4455;\n",
              "      fill: #D2E3FC;\n",
              "    }\n",
              "\n",
              "    [theme=dark] .colab-df-convert:hover {\n",
              "      background-color: #434B5C;\n",
              "      box-shadow: 0px 1px 3px 1px rgba(0, 0, 0, 0.15);\n",
              "      filter: drop-shadow(0px 1px 2px rgba(0, 0, 0, 0.3));\n",
              "      fill: #FFFFFF;\n",
              "    }\n",
              "  </style>\n",
              "\n",
              "      <script>\n",
              "        const buttonEl =\n",
              "          document.querySelector('#df-45006f9a-5564-4551-b483-3bf4624cffda button.colab-df-convert');\n",
              "        buttonEl.style.display =\n",
              "          google.colab.kernel.accessAllowed ? 'block' : 'none';\n",
              "\n",
              "        async function convertToInteractive(key) {\n",
              "          const element = document.querySelector('#df-45006f9a-5564-4551-b483-3bf4624cffda');\n",
              "          const dataTable =\n",
              "            await google.colab.kernel.invokeFunction('convertToInteractive',\n",
              "                                                     [key], {});\n",
              "          if (!dataTable) return;\n",
              "\n",
              "          const docLinkHtml = 'Like what you see? Visit the ' +\n",
              "            '<a target=\"_blank\" href=https://colab.research.google.com/notebooks/data_table.ipynb>data table notebook</a>'\n",
              "            + ' to learn more about interactive tables.';\n",
              "          element.innerHTML = '';\n",
              "          dataTable['output_type'] = 'display_data';\n",
              "          await google.colab.output.renderOutput(dataTable, element);\n",
              "          const docLink = document.createElement('div');\n",
              "          docLink.innerHTML = docLinkHtml;\n",
              "          element.appendChild(docLink);\n",
              "        }\n",
              "      </script>\n",
              "    </div>\n",
              "  </div>\n",
              "  "
            ]
          },
          "metadata": {},
          "execution_count": 2
        }
      ]
    },
    {
      "cell_type": "markdown",
      "source": [
        "## Part 2: Preprocessing Step\n",
        "\n",
        "1. Dropping columns: \"No\", \"Team\", \"Year\"\n",
        "2. Using `preprocessing` to scale the data\n",
        "3. Implementing One Hot Encoding for \"Won\" column"
      ],
      "metadata": {
        "id": "R3dJnVB5C623"
      }
    },
    {
      "cell_type": "code",
      "source": [
        "df = df.drop(columns=['No', 'Team', 'Year'])"
      ],
      "metadata": {
        "id": "BMbZ8i5CC-DP"
      },
      "execution_count": 3,
      "outputs": []
    },
    {
      "cell_type": "markdown",
      "source": [
        "#### Converting df to data(<np.ndarray>)"
      ],
      "metadata": {
        "id": "I4PbIcQtDAj5"
      }
    },
    {
      "cell_type": "code",
      "source": [
        "xnames = ['G','Min','Pts','Reb','Ast','Stl','Blk','To','Pf','Dreb','Oreb','FGPct','3PPct','FTPct','Eff','Deff']\n",
        "X = np.array(df[xnames]) # X now contains all the features\n",
        "y = np.array(df[['Won']])"
      ],
      "metadata": {
        "id": "QKolTeE3DDgB"
      },
      "execution_count": 4,
      "outputs": []
    },
    {
      "cell_type": "markdown",
      "source": [
        "#### One Hot Encoding"
      ],
      "metadata": {
        "id": "uQYvM3FSDJHm"
      }
    },
    {
      "cell_type": "code",
      "source": [
        "one_hot_encoding = OneHotEncoder()\n",
        "y_transformed = one_hot_encoding.fit_transform(y)\n",
        "y = (y_transformed.toarray())[:,1].reshape(X.shape[0],1)"
      ],
      "metadata": {
        "id": "t9SdICTHDJ1h"
      },
      "execution_count": 5,
      "outputs": []
    },
    {
      "cell_type": "markdown",
      "source": [
        "#### Training and Validation Set\n",
        "Splitting the data in 75% training, 25% test"
      ],
      "metadata": {
        "id": "b-qt9ZMqDQcq"
      }
    },
    {
      "cell_type": "code",
      "source": [
        "# Preprocessing \n",
        "X_scale = preprocessing.scale(X)\n",
        "X_train, X_test, y_train, y_test = train_test_split(X_scale, y, test_size=0.25, train_size=0.75, random_state=42)\n",
        "y_2d_train = y_train.reshape(y_train.size,1)\n",
        "y_2d_test = y_test.reshape(y_test.size,1)\n",
        "\n",
        "scaler = StandardScaler()\n",
        "X_train= scaler.fit_transform(X_train)\n",
        "X_test = scaler.transform(X_test)"
      ],
      "metadata": {
        "id": "zwBTcH3pDRJW"
      },
      "execution_count": 6,
      "outputs": []
    },
    {
      "cell_type": "code",
      "source": [
        "print('X_train.shape: ', X_train.shape)\n",
        "print('y_2d_train.shape: ', y_2d_train.shape)"
      ],
      "metadata": {
        "colab": {
          "base_uri": "https://localhost:8080/"
        },
        "id": "FFBxnLHZDTSs",
        "outputId": "8cd920f1-1ecf-4a5c-9dd9-b6ea1be8b471"
      },
      "execution_count": 7,
      "outputs": [
        {
          "output_type": "stream",
          "name": "stdout",
          "text": [
            "X_train.shape:  (543, 16)\n",
            "y_2d_train.shape:  (543, 1)\n"
          ]
        }
      ]
    },
    {
      "cell_type": "markdown",
      "source": [
        "# Part 2: Models"
      ],
      "metadata": {
        "id": "BZlsZBqJDYB9"
      }
    },
    {
      "cell_type": "markdown",
      "source": [
        "# Neural Networks"
      ],
      "metadata": {
        "id": "1MczIIzgDadR"
      }
    },
    {
      "cell_type": "markdown",
      "source": [
        "##Overview:\n",
        "1. Activation function - sigmoid, relu, tanh\n",
        "2. Change the number of iterations\n",
        "3. Change the number of hidden layers\n",
        "4. Add regularization with different learning rates to cost function"
      ],
      "metadata": {
        "id": "37zjWOsw-DTM"
      }
    },
    {
      "cell_type": "code",
      "source": [
        "from sklearn.neural_network import MLPClassifier\n",
        "# Sigmoid\n",
        "print(\"With sigmoid activation function -\")\n",
        "sig_scores = []\n",
        "sig_train_score = []\n",
        "layers = [1, 10, 50 ,100, 250, 500, 1000, 2000, 3000] # different number of hidden layers\n",
        "for i in layers:\n",
        "  clf = MLPClassifier(random_state=1, hidden_layer_sizes = i, activation = 'logistic', max_iter=3000).fit(X_train, y_train.reshape(y_train.size,))\n",
        "  score1 = clf.score(X_test, y_test)\n",
        "  sig_scores.append(score1)\n",
        "  score2 = clf.score(X_train, y_train)\n",
        "  sig_train_score.append(score2)\n",
        "  print(\"Number of hidden layers: \" + str(i) + \"; test accuracy: \" + str(score1) + \"; train accuracy: \" + str(score2))"
      ],
      "metadata": {
        "colab": {
          "base_uri": "https://localhost:8080/"
        },
        "id": "vUQy9NnLWnaQ",
        "outputId": "0dcdd234-f5a2-4587-8f2d-bd7c769760f1"
      },
      "execution_count": 12,
      "outputs": [
        {
          "output_type": "stream",
          "name": "stdout",
          "text": [
            "With sigmoid activation function -\n",
            "Number of hidden layers: 1; test accuracy: 0.9615384615384616; train accuracy: 0.9668508287292817\n",
            "Number of hidden layers: 10; test accuracy: 0.9615384615384616; train accuracy: 0.9668508287292817\n",
            "Number of hidden layers: 50; test accuracy: 0.9615384615384616; train accuracy: 0.9668508287292817\n",
            "Number of hidden layers: 100; test accuracy: 0.9615384615384616; train accuracy: 0.9686924493554327\n",
            "Number of hidden layers: 250; test accuracy: 0.9615384615384616; train accuracy: 0.9760589318600368\n",
            "Number of hidden layers: 500; test accuracy: 0.9615384615384616; train accuracy: 0.9779005524861878\n",
            "Number of hidden layers: 1000; test accuracy: 0.9615384615384616; train accuracy: 0.9760589318600368\n",
            "Number of hidden layers: 2000; test accuracy: 0.9560439560439561; train accuracy: 0.9797421731123389\n",
            "Number of hidden layers: 3000; test accuracy: 0.9560439560439561; train accuracy: 0.9797421731123389\n"
          ]
        }
      ]
    },
    {
      "cell_type": "code",
      "source": [
        "plt.plot(layers, sig_scores, label = \"Testing Accuracy\")\n",
        "plt.plot(layers, sig_train_score, label = \"Training Accuracy\")\n",
        "plt.title(\"Using sigmoid activation\")\n",
        "plt.xlabel(\"Number of hidden layers\")\n",
        "plt.ylabel(\"Accuracy\")\n",
        "plt.legend()\n",
        "plt.show()"
      ],
      "metadata": {
        "colab": {
          "base_uri": "https://localhost:8080/",
          "height": 295
        },
        "id": "Gasl2IhFe7NR",
        "outputId": "8cd2b17f-186c-4dcb-a779-5e00d282319e"
      },
      "execution_count": 13,
      "outputs": [
        {
          "output_type": "display_data",
          "data": {
            "text/plain": [
              "<Figure size 432x288 with 1 Axes>"
            ],
            "image/png": "[encoded data removed]"
          },
          "metadata": {
            "needs_background": "light"
          }
        }
      ]
    },
    {
      "cell_type": "markdown",
      "source": [
        "### Confusion Matrix"
      ],
      "metadata": {
        "id": "p8EHDCE5A9mV"
      }
    },
    {
      "cell_type": "code",
      "source": [
        "from sklearn.metrics import classification_report, confusion_matrix, ConfusionMatrixDisplay\n",
        "y_pred = clf.predict(X_test)\n",
        "cm = confusion_matrix(y_test, y_pred)\n",
        "cmd = ConfusionMatrixDisplay(cm, display_labels = ['Win', 'Lose'])\n",
        "cmd.plot()\n",
        "cmd.ax_.set(title = 'Confusion Matrix',\n",
        "            xlabel = 'Predicted Win',\n",
        "            ylabel = 'Actual Win')"
      ],
      "metadata": {
        "colab": {
          "base_uri": "https://localhost:8080/",
          "height": 349
        },
        "id": "HciWtWB_3OJW",
        "outputId": "0c43340d-040c-45f0-ca94-d45ee1952c7a"
      },
      "execution_count": 14,
      "outputs": [
        {
          "output_type": "execute_result",
          "data": {
            "text/plain": [
              "[Text(0, 0.5, 'Actual Win'),\n",
              " Text(0.5, 0, 'Predicted Win'),\n",
              " Text(0.5, 1.0, 'Confusion Matrix')]"
            ]
          },
          "metadata": {},
          "execution_count": 14
        },
        {
          "output_type": "display_data",
          "data": {
            "text/plain": [
              "<Figure size 432x288 with 2 Axes>"
            ],
            "image/png": "[encoded data removed]"
          },
          "metadata": {
            "needs_background": "light"
          }
        }
      ]
    },
    {
      "cell_type": "markdown",
      "source": [
        "### Regularization for sigmoid"
      ],
      "metadata": {
        "id": "b13SjiNWBFl_"
      }
    },
    {
      "cell_type": "code",
      "source": [
        "print(\"With regularization term - sigmoid\")\n",
        "sig_scores = []\n",
        "sig_train_score = []\n",
        "alphas = [0.000001, 0.00001, 0.0001, 0.001, 0.01, 0.1, 1, 10] # different alpha values that determines the strenght of the regularization\n",
        "for i in alphas:\n",
        "  clf = MLPClassifier(random_state=1, hidden_layer_sizes = 100, alpha = i, activation = 'logistic', max_iter=3000).fit(X_train, y_train.reshape(y_train.size,))\n",
        "  score1 = clf.score(X_test, y_test)\n",
        "  sig_scores.append(score1)\n",
        "  score2 = clf.score(X_train, y_train)\n",
        "  sig_train_score.append(score2)\n",
        "  print(\"Alpha values: \" + str(i) + \"; test accuracy: \" + str(score1) + \"; train accuracy: \" + str(score2))\n",
        "plt.plot(alphas, sig_scores, label = \"Testing Accuracy\")\n",
        "plt.plot(alphas, sig_train_score, label = \"Training Accuracy\")\n",
        "plt.title(\"Using sigmoid activation\")\n",
        "plt.xlabel(\"Alpha values\")\n",
        "plt.ylabel(\"Accuracy\")\n",
        "plt.legend()\n",
        "plt.show()"
      ],
      "metadata": {
        "colab": {
          "base_uri": "https://localhost:8080/",
          "height": 456
        },
        "id": "GKEP6XMLiR-D",
        "outputId": "a7604580-53f4-440d-dc77-fb37419f4c06"
      },
      "execution_count": 16,
      "outputs": [
        {
          "output_type": "stream",
          "name": "stdout",
          "text": [
            "With regularization term - sigmoid\n",
            "Alpha values: 1e-06; test accuracy: 0.9615384615384616; train accuracy: 0.9686924493554327\n",
            "Alpha values: 1e-05; test accuracy: 0.9615384615384616; train accuracy: 0.9686924493554327\n",
            "Alpha values: 0.0001; test accuracy: 0.9615384615384616; train accuracy: 0.9686924493554327\n",
            "Alpha values: 0.001; test accuracy: 0.9615384615384616; train accuracy: 0.9686924493554327\n",
            "Alpha values: 0.01; test accuracy: 0.9615384615384616; train accuracy: 0.9668508287292817\n",
            "Alpha values: 0.1; test accuracy: 0.9615384615384616; train accuracy: 0.9668508287292817\n",
            "Alpha values: 1; test accuracy: 0.9615384615384616; train accuracy: 0.9668508287292817\n",
            "Alpha values: 10; test accuracy: 0.9615384615384616; train accuracy: 0.9668508287292817\n"
          ]
        },
        {
          "output_type": "display_data",
          "data": {
            "text/plain": [
              "<Figure size 432x288 with 1 Axes>"
            ],
            "image/png": "[encoded data removed]"
          },
          "metadata": {
            "needs_background": "light"
          }
        }
      ]
    },
    {
      "cell_type": "markdown",
      "source": [
        "### ReLU Activation Function"
      ],
      "metadata": {
        "id": "VRlsRT8hBi7m"
      }
    },
    {
      "cell_type": "code",
      "source": [
        "print(\"With relu activation function -\")\n",
        "sig_scores = []\n",
        "sig_train_score = []\n",
        "layers = [1, 10, 50 ,100, 250, 500, 1000, 2000, 3000]\n",
        "for i in layers:\n",
        "  clf = MLPClassifier(random_state=1, hidden_layer_sizes = i, activation = 'relu', max_iter=3000).fit(X_train, y_train.reshape(y_train.size,))\n",
        "  score1 = clf.score(X_test, y_test)\n",
        "  sig_scores.append(score1)\n",
        "  score2 = clf.score(X_train, y_train)\n",
        "  sig_train_score.append(score2)\n",
        "  print(\"Number of hidden layers: \" + str(i) + \"; test accuracy: \" + str(score1) + \"; train accuracy: \" + str(score2))"
      ],
      "metadata": {
        "colab": {
          "base_uri": "https://localhost:8080/"
        },
        "id": "BzJxQ_esgmqo",
        "outputId": "e8373bcc-eb13-4384-ca22-d7f3148c28f8"
      },
      "execution_count": 17,
      "outputs": [
        {
          "output_type": "stream",
          "name": "stdout",
          "text": [
            "With relu activation function -\n",
            "Number of hidden layers: 1; test accuracy: 0.9615384615384616; train accuracy: 0.9668508287292817\n",
            "Number of hidden layers: 10; test accuracy: 0.967032967032967; train accuracy: 0.990791896869245\n",
            "Number of hidden layers: 50; test accuracy: 0.967032967032967; train accuracy: 0.998158379373849\n",
            "Number of hidden layers: 100; test accuracy: 0.967032967032967; train accuracy: 1.0\n",
            "Number of hidden layers: 250; test accuracy: 0.967032967032967; train accuracy: 1.0\n",
            "Number of hidden layers: 500; test accuracy: 0.9615384615384616; train accuracy: 1.0\n",
            "Number of hidden layers: 1000; test accuracy: 0.967032967032967; train accuracy: 1.0\n",
            "Number of hidden layers: 2000; test accuracy: 0.9615384615384616; train accuracy: 1.0\n",
            "Number of hidden layers: 3000; test accuracy: 0.9615384615384616; train accuracy: 1.0\n"
          ]
        }
      ]
    },
    {
      "cell_type": "code",
      "source": [
        "plt.plot(layers, sig_scores, label = \"Testing Accuracy\")\n",
        "plt.plot(layers, sig_train_score, label = \"Training Accuracy\")\n",
        "plt.title(\"Using relu activation with regularization\")\n",
        "plt.xlabel(\"Number of hidden layers\")\n",
        "plt.ylabel(\"Accuracy\")\n",
        "plt.legend()\n",
        "plt.show()"
      ],
      "metadata": {
        "colab": {
          "base_uri": "https://localhost:8080/",
          "height": 295
        },
        "id": "QADR4Ko9gvKn",
        "outputId": "6fbdc4fc-4faa-45fc-ded1-5edf4f7c0429"
      },
      "execution_count": 23,
      "outputs": [
        {
          "output_type": "display_data",
          "data": {
            "text/plain": [
              "<Figure size 432x288 with 1 Axes>"
            ],
            "image/png": "[encoded data removed]"
          },
          "metadata": {
            "needs_background": "light"
          }
        }
      ]
    },
    {
      "cell_type": "markdown",
      "source": [
        "### Confusion Matrix"
      ],
      "metadata": {
        "id": "-68ORlwfBzBC"
      }
    },
    {
      "cell_type": "code",
      "source": [
        "from sklearn.metrics import classification_report, confusion_matrix, ConfusionMatrixDisplay\n",
        "y_pred = clf.predict(X_test)\n",
        "cm = confusion_matrix(y_test, y_pred)\n",
        "cmd = ConfusionMatrixDisplay(cm, display_labels = ['Win', 'Lose'])\n",
        "cmd.plot()\n",
        "cmd.ax_.set(title = 'Confusion Matrix', xlabel = 'Predicted Win', ylabel = 'Actual Win')"
      ],
      "metadata": {
        "colab": {
          "base_uri": "https://localhost:8080/",
          "height": 349
        },
        "id": "2Z56CUpj4iZQ",
        "outputId": "65d2f0eb-f50f-4cb5-dbb2-f3af09e947cc"
      },
      "execution_count": 24,
      "outputs": [
        {
          "output_type": "execute_result",
          "data": {
            "text/plain": [
              "[Text(0, 0.5, 'Actual Win'),\n",
              " Text(0.5, 0, 'Predicted Win'),\n",
              " Text(0.5, 1.0, 'Confusion Matrix')]"
            ]
          },
          "metadata": {},
          "execution_count": 24
        },
        {
          "output_type": "display_data",
          "data": {
            "text/plain": [
              "<Figure size 432x288 with 2 Axes>"
            ],
            "image/png": "[encoded data removed]"
          },
          "metadata": {
            "needs_background": "light"
          }
        }
      ]
    },
    {
      "cell_type": "markdown",
      "source": [
        "### Regularization for ReLU"
      ],
      "metadata": {
        "id": "0E0JpSeeB4Rd"
      }
    },
    {
      "cell_type": "code",
      "source": [
        "print(\"With regularization term - relu\")\n",
        "sig_scores = []\n",
        "sig_train_score = []\n",
        "alphas = [0.000001, 0.00001, 0.0001, 0.001, 0.01, 0.1, 1, 10]\n",
        "for i in alphas:\n",
        "  clf = MLPClassifier(random_state=1, hidden_layer_sizes = 10, alpha = i, activation = 'relu', max_iter=3000).fit(X_train, y_train.reshape(y_train.size,))\n",
        "  score1 = clf.score(X_test, y_test)\n",
        "  sig_scores.append(score1)\n",
        "  score2 = clf.score(X_train, y_train)\n",
        "  sig_train_score.append(score2)\n",
        "  print(\"Alpha values: \" + str(i) + \"; test accuracy: \" + str(score1) + \"; train accuracy: \" + str(score2))\n",
        "plt.plot(alphas, sig_scores, label = \"Testing Accuracy\")\n",
        "plt.plot(alphas, sig_train_score, label = \"Training Accuracy\")\n",
        "plt.title(\"Using relu activation with regularization\")\n",
        "plt.xlabel(\"Alpha values\")\n",
        "plt.ylabel(\"Accuracy\")\n",
        "plt.legend()\n",
        "plt.show()"
      ],
      "metadata": {
        "colab": {
          "base_uri": "https://localhost:8080/",
          "height": 456
        },
        "id": "u9VWdLrEoi0o",
        "outputId": "26ca71b9-4a81-4edd-a662-7a233466472d"
      },
      "execution_count": 25,
      "outputs": [
        {
          "output_type": "stream",
          "name": "stdout",
          "text": [
            "With regularization term - relu\n",
            "Alpha values: 1e-06; test accuracy: 0.967032967032967; train accuracy: 0.990791896869245\n",
            "Alpha values: 1e-05; test accuracy: 0.967032967032967; train accuracy: 0.990791896869245\n",
            "Alpha values: 0.0001; test accuracy: 0.967032967032967; train accuracy: 0.990791896869245\n",
            "Alpha values: 0.001; test accuracy: 0.967032967032967; train accuracy: 0.990791896869245\n",
            "Alpha values: 0.01; test accuracy: 0.967032967032967; train accuracy: 0.990791896869245\n",
            "Alpha values: 0.1; test accuracy: 0.9615384615384616; train accuracy: 0.988950276243094\n",
            "Alpha values: 1; test accuracy: 0.967032967032967; train accuracy: 0.9834254143646409\n",
            "Alpha values: 10; test accuracy: 0.9615384615384616; train accuracy: 0.9668508287292817\n"
          ]
        },
        {
          "output_type": "display_data",
          "data": {
            "text/plain": [
              "<Figure size 432x288 with 1 Axes>"
            ],
            "image/png": "[encoded data removed]"
          },
          "metadata": {
            "needs_background": "light"
          }
        }
      ]
    },
    {
      "cell_type": "markdown",
      "source": [
        "### Tanh Activation Function"
      ],
      "metadata": {
        "id": "gWnOHU4rCCN5"
      }
    },
    {
      "cell_type": "code",
      "source": [
        "print(\"With relu activation function -\")\n",
        "sig_scores = []\n",
        "sig_train_score = []\n",
        "layers = [1, 10, 50 ,100, 250, 500, 1000, 2000, 3000]\n",
        "\n",
        "for i in layers:\n",
        "  clf = MLPClassifier(random_state=1, hidden_layer_sizes = i, activation = 'tanh', max_iter=3000).fit(X_train, y_train.reshape(y_train.size,))\n",
        "  score1 = clf.score(X_test, y_test)\n",
        "  sig_scores.append(score1)\n",
        "  score2 = clf.score(X_train, y_train)\n",
        "  sig_train_score.append(score2)\n",
        "  print(\"Number of hidden layers: \" + str(i) + \"; test accuracy: \" + str(score1) + \"; train accuracy: \" + str(score2))"
      ],
      "metadata": {
        "colab": {
          "base_uri": "https://localhost:8080/"
        },
        "id": "313Z-SdhhigU",
        "outputId": "37526d75-e8c4-4653-a49a-82f896f80003"
      },
      "execution_count": 26,
      "outputs": [
        {
          "output_type": "stream",
          "name": "stdout",
          "text": [
            "With relu activation function -\n",
            "Number of hidden layers: 1; test accuracy: 0.9615384615384616; train accuracy: 0.9668508287292817\n",
            "Number of hidden layers: 10; test accuracy: 0.9615384615384616; train accuracy: 0.9834254143646409\n",
            "Number of hidden layers: 50; test accuracy: 0.9615384615384616; train accuracy: 1.0\n",
            "Number of hidden layers: 100; test accuracy: 0.9615384615384616; train accuracy: 1.0\n",
            "Number of hidden layers: 250; test accuracy: 0.9560439560439561; train accuracy: 1.0\n",
            "Number of hidden layers: 500; test accuracy: 0.9505494505494505; train accuracy: 1.0\n",
            "Number of hidden layers: 1000; test accuracy: 0.9560439560439561; train accuracy: 1.0\n",
            "Number of hidden layers: 2000; test accuracy: 0.945054945054945; train accuracy: 0.9797421731123389\n",
            "Number of hidden layers: 3000; test accuracy: 0.9505494505494505; train accuracy: 0.9815837937384899\n"
          ]
        }
      ]
    },
    {
      "cell_type": "code",
      "source": [
        "plt.plot(layers, sig_scores, label = \"Testing Accuracy\")\n",
        "plt.plot(layers, sig_train_score, label = \"Training Accuracy\")\n",
        "plt.title(\"Using tanh activation\")\n",
        "plt.xlabel(\"Number of hidden layers\")\n",
        "plt.ylabel(\"Accuracy\")\n",
        "plt.legend()\n",
        "plt.show()"
      ],
      "metadata": {
        "colab": {
          "base_uri": "https://localhost:8080/",
          "height": 295
        },
        "id": "Q1bAFsWWhspR",
        "outputId": "16cbcf5c-cd98-4ef8-99ed-d8cc99727b9a"
      },
      "execution_count": 27,
      "outputs": [
        {
          "output_type": "display_data",
          "data": {
            "text/plain": [
              "<Figure size 432x288 with 1 Axes>"
            ],
            "image/png": "[encoded data removed]"
          },
          "metadata": {
            "needs_background": "light"
          }
        }
      ]
    },
    {
      "cell_type": "markdown",
      "source": [
        "### Confusion Matrix"
      ],
      "metadata": {
        "id": "gZNe50sDCGdh"
      }
    },
    {
      "cell_type": "code",
      "source": [
        "from sklearn.metrics import classification_report, confusion_matrix, ConfusionMatrixDisplay\n",
        "y_pred = clf.predict(X_test)\n",
        "cm = confusion_matrix(y_test, y_pred)\n",
        "cmd = ConfusionMatrixDisplay(cm, display_labels = ['Win', 'Lose'])\n",
        "cmd.plot()\n",
        "cmd.ax_.set(title = 'Confusion Matrix', xlabel = 'Predicted Win', ylabel = 'Actual Win')"
      ],
      "metadata": {
        "colab": {
          "base_uri": "https://localhost:8080/",
          "height": 349
        },
        "id": "Yw4AjDLA45Ob",
        "outputId": "febbf2f5-2cd6-48ae-9f99-8587ab0b7e10"
      },
      "execution_count": 28,
      "outputs": [
        {
          "output_type": "execute_result",
          "data": {
            "text/plain": [
              "[Text(0, 0.5, 'Actual Win'),\n",
              " Text(0.5, 0, 'Predicted Win'),\n",
              " Text(0.5, 1.0, 'Confusion Matrix')]"
            ]
          },
          "metadata": {},
          "execution_count": 28
        },
        {
          "output_type": "display_data",
          "data": {
            "text/plain": [
              "<Figure size 432x288 with 2 Axes>"
            ],
            "image/png": "[encoded data removed]"
          },
          "metadata": {
            "needs_background": "light"
          }
        }
      ]
    },
    {
      "cell_type": "markdown",
      "source": [
        "## Regularization for Tanh"
      ],
      "metadata": {
        "id": "u-Aat5HLLwNi"
      }
    },
    {
      "cell_type": "code",
      "source": [
        "print(\"With regularization term - tanh\")\n",
        "sig_scores = []\n",
        "sig_train_score = []\n",
        "alphas = [0.000001, 0.00001, 0.0001, 0.001, 0.01, 0.1, 1, 10]\n",
        "for i in alphas:\n",
        "  clf = MLPClassifier(random_state=1, hidden_layer_sizes = 100, alpha = i, activation = 'tanh', max_iter=3000).fit(X_train, y_train.reshape(y_train.size,))\n",
        "  score1 = clf.score(X_test, y_test)\n",
        "  sig_scores.append(score1)\n",
        "  score2 = clf.score(X_train, y_train)\n",
        "  sig_train_score.append(score2)\n",
        "  print(\"Alpha values: \" + str(i) + \"; test accuracy: \" + str(score1) + \"; train accuracy: \" + str(score2))\n",
        "plt.plot(alphas, sig_scores, label = \"Testing Accuracy\")\n",
        "plt.plot(alphas, sig_train_score, label = \"Training Accuracy\")\n",
        "plt.title(\"Using Tanh activation with regularization\")\n",
        "plt.xlabel(\"Alpha values\")\n",
        "plt.ylabel(\"Accuracy\")\n",
        "plt.legend()\n",
        "plt.show()"
      ],
      "metadata": {
        "colab": {
          "base_uri": "https://localhost:8080/",
          "height": 456
        },
        "id": "uM78mNV9iKhe",
        "outputId": "91bcb8e8-9b85-4864-c053-dfe2d6cf4b66"
      },
      "execution_count": 29,
      "outputs": [
        {
          "output_type": "stream",
          "name": "stdout",
          "text": [
            "With regularization term - tanh\n",
            "Alpha values: 1e-06; test accuracy: 0.9615384615384616; train accuracy: 1.0\n",
            "Alpha values: 1e-05; test accuracy: 0.9615384615384616; train accuracy: 1.0\n",
            "Alpha values: 0.0001; test accuracy: 0.9615384615384616; train accuracy: 1.0\n",
            "Alpha values: 0.001; test accuracy: 0.9615384615384616; train accuracy: 1.0\n",
            "Alpha values: 0.01; test accuracy: 0.9615384615384616; train accuracy: 1.0\n",
            "Alpha values: 0.1; test accuracy: 0.9615384615384616; train accuracy: 0.998158379373849\n",
            "Alpha values: 1; test accuracy: 0.967032967032967; train accuracy: 0.9779005524861878\n",
            "Alpha values: 10; test accuracy: 0.9615384615384616; train accuracy: 0.9668508287292817\n"
          ]
        },
        {
          "output_type": "display_data",
          "data": {
            "text/plain": [
              "<Figure size 432x288 with 1 Axes>"
            ],
            "image/png": "[encoded data removed]"
          },
          "metadata": {
            "needs_background": "light"
          }
        }
      ]
    }
  ]
}