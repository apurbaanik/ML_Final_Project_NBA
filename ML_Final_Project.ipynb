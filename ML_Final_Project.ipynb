{
  "nbformat": 4,
  "nbformat_minor": 0,
  "metadata": {
    "colab": {
      "provenance": [],
      "include_colab_link": true
    },
    "kernelspec": {
      "name": "python3",
      "display_name": "Python 3"
    },
    "language_info": {
      "name": "python"
    }
  },
  "cells": [
    {
      "cell_type": "markdown",
      "metadata": {
        "id": "view-in-github",
        "colab_type": "text"
      },
      "source": [
        "<a href=\"https://colab.research.google.com/github/apurbaanik/ML_Final_Project_NBA/blob/main/ML_Final_Project.ipynb\" target=\"_parent\"><img src=\"https://colab.research.google.com/assets/colab-badge.svg\" alt=\"Open In Colab\"/></a>"
      ]
    },
    {
      "cell_type": "markdown",
      "source": [
        "#Machine Learning Final Project - NBA Prediction\n",
        "Team: Anik Barua, Kashyapa Jayasekera\n",
        "\n",
        "CS-UY 4563 B\n",
        "\n",
        "Date: 11-16-2022"
      ],
      "metadata": {
        "id": "ugRBbBukQc_1"
      }
    },
    {
      "cell_type": "code",
      "execution_count": null,
      "metadata": {
        "id": "9skfNL2oMKtA"
      },
      "outputs": [],
      "source": [
        "import numpy as np\n",
        "import pandas as pd\n",
        "import matplotlib.pyplot as plt\n",
        "from sklearn.model_selection import train_test_split \n",
        "from sklearn.preprocessing import Normalizer\n",
        "from sklearn.preprocessing import OneHotEncoder\n",
        "%matplotlib inline"
      ]
    },
    {
      "cell_type": "markdown",
      "source": [
        "# Part 1: Import Data"
      ],
      "metadata": {
        "id": "e3YjDTUphLDJ"
      }
    },
    {
      "cell_type": "code",
      "source": [
        "# Loading the data\n",
        "url = 'https://raw.githubusercontent.com/apurbaanik/ML_Final_Project_NBA/main/NBA_Team_Stats.csv'\n",
        "df = pd.read_csv(url)\n",
        "print(df)"
      ],
      "metadata": {
        "id": "toOFwUXWMgNj",
        "colab": {
          "base_uri": "https://localhost:8080/"
        },
        "outputId": "1a19b583-529a-486a-8724-4f4f4f2c8be2"
      },
      "execution_count": null,
      "outputs": [
        {
          "output_type": "stream",
          "name": "stdout",
          "text": [
            "     No           Team    G   Min    Pts   Reb   Ast  Stl  Blk    To    Pf  \\\n",
            "0     1        Chicago  103  48.4   96.0  44.1  23.1  8.6  4.3  13.0  21.1   \n",
            "1     2           Utah  102  48.3   98.6  40.8  24.7  7.6  4.8  14.7  24.3   \n",
            "2     3        Phoenix   86  48.6   99.3  41.9  25.6  9.2  5.3  14.4  21.7   \n",
            "3     4     L.A.Lakers   95  48.3  104.8  42.9  24.3  8.7  6.8  14.7  22.9   \n",
            "4     5    San Antonio   91  48.4   92.5  44.1  21.9  6.2  6.9  15.3  21.2   \n",
            "..   ..            ...  ...   ...    ...   ...   ...  ...  ...   ...   ...   \n",
            "720  25     Sacramento   82  48.3  110.3  42.9  23.7  7.2  4.5  13.5  18.9   \n",
            "721  26        Orlando   82  48.2  104.2  44.3  23.7  6.8  4.5  13.8  19.7   \n",
            "722  27        Detroit   82  48.2  104.8  43.0  23.5  7.7  4.8  13.4  21.9   \n",
            "723  28       Portland   82  48.1  106.2  42.9  22.9  8.0  4.5  13.7  21.1   \n",
            "724  29  Oklahoma City   82  48.3  103.7  45.6  22.2  7.6  4.6  13.3  18.3   \n",
            "\n",
            "     Dreb  Oreb  FGPct  3PPct  FTPct    Eff  Deff       Year  Won  \n",
            "0    29.2  14.9  0.449  0.323  0.741  111.6  17.5  1997-1998  Yes  \n",
            "1    29.5  11.3  0.483  0.368  0.768  116.3  17.5  1997-1998   No  \n",
            "2    29.8  12.1  0.466  0.355  0.747  117.1  13.6  1997-1998   No  \n",
            "3    29.7  13.2  0.480  0.350  0.675  120.8  13.2  1997-1998   No  \n",
            "4    32.2  11.9  0.468  0.344  0.688  108.0  13.1  1997-1998   No  \n",
            "..    ...   ...    ...    ...    ...    ...   ...        ...  ...  \n",
            "720  33.4   9.6  0.460  0.344  0.768  122.1 -13.4  2021-2022   No  \n",
            "721  35.2   9.1  0.434  0.331  0.787  115.5 -16.0  2021-2022   No  \n",
            "722  32.0  11.0  0.430  0.326  0.782  115.1 -16.7  2021-2022   No  \n",
            "723  32.5  10.4  0.443  0.346  0.760  117.1 -19.0  2021-2022   No  \n",
            "724  35.2  10.4  0.430  0.323  0.756  114.8 -19.2  2021-2022   No  \n",
            "\n",
            "[725 rows x 20 columns]\n"
          ]
        }
      ]
    },
    {
      "cell_type": "markdown",
      "source": [
        "# Part 2: Preprocessing"
      ],
      "metadata": {
        "id": "XgjiWSPqhUBi"
      }
    },
    {
      "cell_type": "code",
      "source": [
        "# Preprocessing our data\n",
        "# 1. Delete column: No, Team, Year\n",
        "# 2. Encoding for Won column\n",
        "# 3. Normalize\n",
        "\n",
        "# Delete column: No, Team, Year\n",
        "df = df.drop(columns=['No', 'Team', 'Year'])\n",
        "print(df)"
      ],
      "metadata": {
        "id": "-SHyHb33Mam5",
        "colab": {
          "base_uri": "https://localhost:8080/"
        },
        "outputId": "dc3017c3-32c1-4e9d-ea44-fb217b2d4182"
      },
      "execution_count": null,
      "outputs": [
        {
          "output_type": "stream",
          "name": "stdout",
          "text": [
            "       G   Min    Pts   Reb   Ast  Stl  Blk    To    Pf  Dreb  Oreb  FGPct  \\\n",
            "0    103  48.4   96.0  44.1  23.1  8.6  4.3  13.0  21.1  29.2  14.9  0.449   \n",
            "1    102  48.3   98.6  40.8  24.7  7.6  4.8  14.7  24.3  29.5  11.3  0.483   \n",
            "2     86  48.6   99.3  41.9  25.6  9.2  5.3  14.4  21.7  29.8  12.1  0.466   \n",
            "3     95  48.3  104.8  42.9  24.3  8.7  6.8  14.7  22.9  29.7  13.2  0.480   \n",
            "4     91  48.4   92.5  44.1  21.9  6.2  6.9  15.3  21.2  32.2  11.9  0.468   \n",
            "..   ...   ...    ...   ...   ...  ...  ...   ...   ...   ...   ...    ...   \n",
            "720   82  48.3  110.3  42.9  23.7  7.2  4.5  13.5  18.9  33.4   9.6  0.460   \n",
            "721   82  48.2  104.2  44.3  23.7  6.8  4.5  13.8  19.7  35.2   9.1  0.434   \n",
            "722   82  48.2  104.8  43.0  23.5  7.7  4.8  13.4  21.9  32.0  11.0  0.430   \n",
            "723   82  48.1  106.2  42.9  22.9  8.0  4.5  13.7  21.1  32.5  10.4  0.443   \n",
            "724   82  48.3  103.7  45.6  22.2  7.6  4.6  13.3  18.3  35.2  10.4  0.430   \n",
            "\n",
            "     3PPct  FTPct    Eff  Deff  Won  \n",
            "0    0.323  0.741  111.6  17.5  Yes  \n",
            "1    0.368  0.768  116.3  17.5   No  \n",
            "2    0.355  0.747  117.1  13.6   No  \n",
            "3    0.350  0.675  120.8  13.2   No  \n",
            "4    0.344  0.688  108.0  13.1   No  \n",
            "..     ...    ...    ...   ...  ...  \n",
            "720  0.344  0.768  122.1 -13.4   No  \n",
            "721  0.331  0.787  115.5 -16.0   No  \n",
            "722  0.326  0.782  115.1 -16.7   No  \n",
            "723  0.346  0.760  117.1 -19.0   No  \n",
            "724  0.323  0.756  114.8 -19.2   No  \n",
            "\n",
            "[725 rows x 17 columns]\n"
          ]
        }
      ]
    },
    {
      "cell_type": "code",
      "source": [
        "X = np.array(df[['G','Min','Pts','Reb','Ast','Stl','Blk','To','Pf','Dreb','Oreb','FGPct','3PPct','FTPct','Eff','Deff']])\n",
        "y = np.array(df[['Won']])\n",
        "\n",
        "# Implementing OneHotEncoding on y\n",
        "ohe = OneHotEncoder()\n",
        "transformed = ohe.fit_transform(y)\n",
        "y = (transformed.toarray())[:,1].reshape(X.shape[0],1)"
      ],
      "metadata": {
        "id": "oqivCDPYRrAc"
      },
      "execution_count": null,
      "outputs": []
    },
    {
      "cell_type": "code",
      "source": [
        "# Normalize our values in X\n",
        "scaler = Normalizer(norm='l2').fit(X)\n",
        "X_Normalized = scaler.transform(X)\n",
        "print(X_Normalized)"
      ],
      "metadata": {
        "colab": {
          "base_uri": "https://localhost:8080/"
        },
        "id": "QnDVOZZ_YHee",
        "outputId": "7ea2d0e3-7ba9-4ba6-945a-c16e899a8ce3"
      },
      "execution_count": null,
      "outputs": [
        {
          "output_type": "stream",
          "name": "stdout",
          "text": [
            "[[ 0.52030187  0.24449136  0.48494154 ...  0.00374314  0.56374455\n",
            "   0.0884008 ]\n",
            " [ 0.50714396  0.24014758  0.49023916 ...  0.0038185   0.57824355\n",
            "   0.08700999]\n",
            " [ 0.44261081  0.25012658  0.51106109 ...  0.00384454  0.60267124\n",
            "   0.06999427]\n",
            " ...\n",
            " [ 0.42150703  0.24776389  0.53870654 ...  0.00401974  0.59165194\n",
            "  -0.0858435 ]\n",
            " [ 0.41717056  0.24470614  0.54028675 ...  0.00386646  0.59573991\n",
            "  -0.09666147]\n",
            " [ 0.42137685  0.24820124  0.53288755 ...  0.00388489  0.58992758\n",
            "  -0.09866385]]\n"
          ]
        }
      ]
    },
    {
      "cell_type": "code",
      "source": [
        "\n",
        "# Splitting the data in 80% training, 10% test, 10% validation\n",
        "X_train_val, X_test, y_train_val, y_test = train_test_split(X, y,test_size = 0.1, random_state=10, shuffle=True)\n",
        "X_train, X_val, y_train, y_val = train_test_split(X_train_val, y_train_val, test_size = 0.1, random_state=10, shuffle=True)"
      ],
      "metadata": {
        "id": "3ARRKajkZ4z_"
      },
      "execution_count": null,
      "outputs": []
    },
    {
      "cell_type": "code",
      "source": [
        "# Check to make sure everything is as expected\n",
        "print('X_train:' + str(X_train.shape))\n",
        "print('y_train:' + str(y_train.shape))\n",
        "print('X_val: \\t'  + str(X_val.shape))\n",
        "print('y_val: \\t'  + str(y_val.shape))\n",
        "print('X_test: '  + str(X_test.shape))\n",
        "print('y_test: '  + str(y_test.shape))"
      ],
      "metadata": {
        "colab": {
          "base_uri": "https://localhost:8080/"
        },
        "id": "F6UEb_BMap4t",
        "outputId": "a255cd8a-5759-418d-de8c-0bdae61cf01a"
      },
      "execution_count": null,
      "outputs": [
        {
          "output_type": "stream",
          "name": "stdout",
          "text": [
            "X_train:(586, 16)\n",
            "y_train:(586, 1)\n",
            "X_val: \t(66, 16)\n",
            "y_val: \t(66, 1)\n",
            "X_test: (73, 16)\n",
            "y_test: (73, 1)\n"
          ]
        }
      ]
    },
    {
      "cell_type": "markdown",
      "source": [
        "# Part 2: Models"
      ],
      "metadata": {
        "id": "JwA35QPobLA4"
      }
    }
  ]
}