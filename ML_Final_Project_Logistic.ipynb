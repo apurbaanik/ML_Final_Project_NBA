{
  "nbformat": 4,
  "nbformat_minor": 0,
  "metadata": {
    "colab": {
      "provenance": [],
      "include_colab_link": true
    },
    "kernelspec": {
      "name": "python3",
      "display_name": "Python 3"
    },
    "language_info": {
      "name": "python"
    }
  },
  "cells": [
    {
      "cell_type": "markdown",
      "metadata": {
        "id": "view-in-github",
        "colab_type": "text"
      },
      "source": [
        "<a href=\"https://colab.research.google.com/github/apurbaanik/ML_Final_Project_NBA/blob/main/ML_Final_Project_Logistic.ipynb\" target=\"_parent\"><img src=\"https://colab.research.google.com/assets/colab-badge.svg\" alt=\"Open In Colab\"/></a>"
      ]
    },
    {
      "cell_type": "markdown",
      "source": [
        "## Machine Learning Final Project - NBA Champion Prediction Based on Regular Season Stats\n",
        "\n",
        "---\n",
        "\n",
        "\n",
        "- Team: Anik Barua, Kashyapa Jayasekera\n",
        "- CS-UY 4563 B\n",
        "- Date: 11-24-2022"
      ],
      "metadata": {
        "id": "ugRBbBukQc_1"
      }
    },
    {
      "cell_type": "code",
      "execution_count": 1,
      "metadata": {
        "id": "9skfNL2oMKtA"
      },
      "outputs": [],
      "source": [
        "import numpy as np\n",
        "import pandas as pd\n",
        "import matplotlib.pyplot as plt\n",
        "from sklearn import preprocessing, linear_model\n",
        "from sklearn.linear_model import LogisticRegression\n",
        "from sklearn.preprocessing import StandardScaler, OneHotEncoder\n",
        "from sklearn.model_selection import train_test_split, cross_val_score, KFold\n",
        "from sklearn.metrics import accuracy_score, confusion_matrix, classification_report\n",
        "%matplotlib inline"
      ]
    },
    {
      "cell_type": "markdown",
      "source": [
        "## Part 1: Loading the dataset"
      ],
      "metadata": {
        "id": "e3YjDTUphLDJ"
      }
    },
    {
      "cell_type": "code",
      "source": [
        "data = 'https://raw.githubusercontent.com/apurbaanik/ML_Final_Project_NBA/main/NBA_Team_Stats.csv'\n",
        "df = pd.read_csv(data)\n",
        "df.head(10)"
      ],
      "metadata": {
        "id": "toOFwUXWMgNj",
        "colab": {
          "base_uri": "https://localhost:8080/",
          "height": 363
        },
        "outputId": "09e5f514-4e82-475a-b7c9-8d7e19600cac"
      },
      "execution_count": 2,
      "outputs": [
        {
          "output_type": "execute_result",
          "data": {
            "text/plain": [
              "   No         Team    G   Min    Pts   Reb   Ast  Stl  Blk    To    Pf  Dreb  \\\n",
              "0   1      Chicago  103  48.4   96.0  44.1  23.1  8.6  4.3  13.0  21.1  29.2   \n",
              "1   2         Utah  102  48.3   98.6  40.8  24.7  7.6  4.8  14.7  24.3  29.5   \n",
              "2   3      Phoenix   86  48.6   99.3  41.9  25.6  9.2  5.3  14.4  21.7  29.8   \n",
              "3   4   L.A.Lakers   95  48.3  104.8  42.9  24.3  8.7  6.8  14.7  22.9  29.7   \n",
              "4   5  San Antonio   91  48.4   92.5  44.1  21.9  6.2  6.9  15.3  21.2  32.2   \n",
              "5   6      Indiana   98  48.4   95.3  38.6  22.4  7.8  4.5  13.6  23.0  28.2   \n",
              "6   7        Miami   87  48.2   94.5  41.7  21.1  8.0  5.2  14.2  24.2  29.4   \n",
              "7   8      Seattle   92  48.2  100.0  38.5  24.0  9.7  4.5  13.4  22.3  27.0   \n",
              "8   9      Atlanta   86  48.5   95.5  42.8  19.0  8.0  5.9  14.0  20.5  29.5   \n",
              "9  10     New York   92  48.4   91.3  41.4  21.5  7.8  3.2  14.7  24.1  29.6   \n",
              "\n",
              "   Oreb  FGPct  3PPct  FTPct    Eff  Deff       Year  Won  \n",
              "0  14.9  0.449  0.323  0.741  111.6  17.5  1997-1998  Yes  \n",
              "1  11.3  0.483  0.368  0.768  116.3  17.5  1997-1998   No  \n",
              "2  12.1  0.466  0.355  0.747  117.1  13.6  1997-1998   No  \n",
              "3  13.2  0.480  0.350  0.675  120.8  13.2  1997-1998   No  \n",
              "4  11.9  0.468  0.344  0.688  108.0  13.1  1997-1998   No  \n",
              "5  10.4  0.468  0.387  0.763  109.0  12.2  1997-1998   No  \n",
              "6  12.3  0.449  0.355  0.735  107.4  10.0  1997-1998   No  \n",
              "7  11.5  0.471  0.390  0.724  114.5   9.4  1997-1998   No  \n",
              "8  13.4  0.454  0.335  0.753  108.1   7.3  1997-1998   No  \n",
              "9  11.8  0.446  0.341  0.771  102.3   7.2  1997-1998   No  "
            ],
            "text/html": [
              "\n",
              "  <div id=\"df-d7b51db0-bf2d-41ea-8a33-3b69baa3b731\">\n",
              "    <div class=\"colab-df-container\">\n",
              "      <div>\n",
              "<style scoped>\n",
              "    .dataframe tbody tr th:only-of-type {\n",
              "        vertical-align: middle;\n",
              "    }\n",
              "\n",
              "    .dataframe tbody tr th {\n",
              "        vertical-align: top;\n",
              "    }\n",
              "\n",
              "    .dataframe thead th {\n",
              "        text-align: right;\n",
              "    }\n",
              "</style>\n",
              "<table border=\"1\" class=\"dataframe\">\n",
              "  <thead>\n",
              "    <tr style=\"text-align: right;\">\n",
              "      <th></th>\n",
              "      <th>No</th>\n",
              "      <th>Team</th>\n",
              "      <th>G</th>\n",
              "      <th>Min</th>\n",
              "      <th>Pts</th>\n",
              "      <th>Reb</th>\n",
              "      <th>Ast</th>\n",
              "      <th>Stl</th>\n",
              "      <th>Blk</th>\n",
              "      <th>To</th>\n",
              "      <th>Pf</th>\n",
              "      <th>Dreb</th>\n",
              "      <th>Oreb</th>\n",
              "      <th>FGPct</th>\n",
              "      <th>3PPct</th>\n",
              "      <th>FTPct</th>\n",
              "      <th>Eff</th>\n",
              "      <th>Deff</th>\n",
              "      <th>Year</th>\n",
              "      <th>Won</th>\n",
              "    </tr>\n",
              "  </thead>\n",
              "  <tbody>\n",
              "    <tr>\n",
              "      <th>0</th>\n",
              "      <td>1</td>\n",
              "      <td>Chicago</td>\n",
              "      <td>103</td>\n",
              "      <td>48.4</td>\n",
              "      <td>96.0</td>\n",
              "      <td>44.1</td>\n",
              "      <td>23.1</td>\n",
              "      <td>8.6</td>\n",
              "      <td>4.3</td>\n",
              "      <td>13.0</td>\n",
              "      <td>21.1</td>\n",
              "      <td>29.2</td>\n",
              "      <td>14.9</td>\n",
              "      <td>0.449</td>\n",
              "      <td>0.323</td>\n",
              "      <td>0.741</td>\n",
              "      <td>111.6</td>\n",
              "      <td>17.5</td>\n",
              "      <td>1997-1998</td>\n",
              "      <td>Yes</td>\n",
              "    </tr>\n",
              "    <tr>\n",
              "      <th>1</th>\n",
              "      <td>2</td>\n",
              "      <td>Utah</td>\n",
              "      <td>102</td>\n",
              "      <td>48.3</td>\n",
              "      <td>98.6</td>\n",
              "      <td>40.8</td>\n",
              "      <td>24.7</td>\n",
              "      <td>7.6</td>\n",
              "      <td>4.8</td>\n",
              "      <td>14.7</td>\n",
              "      <td>24.3</td>\n",
              "      <td>29.5</td>\n",
              "      <td>11.3</td>\n",
              "      <td>0.483</td>\n",
              "      <td>0.368</td>\n",
              "      <td>0.768</td>\n",
              "      <td>116.3</td>\n",
              "      <td>17.5</td>\n",
              "      <td>1997-1998</td>\n",
              "      <td>No</td>\n",
              "    </tr>\n",
              "    <tr>\n",
              "      <th>2</th>\n",
              "      <td>3</td>\n",
              "      <td>Phoenix</td>\n",
              "      <td>86</td>\n",
              "      <td>48.6</td>\n",
              "      <td>99.3</td>\n",
              "      <td>41.9</td>\n",
              "      <td>25.6</td>\n",
              "      <td>9.2</td>\n",
              "      <td>5.3</td>\n",
              "      <td>14.4</td>\n",
              "      <td>21.7</td>\n",
              "      <td>29.8</td>\n",
              "      <td>12.1</td>\n",
              "      <td>0.466</td>\n",
              "      <td>0.355</td>\n",
              "      <td>0.747</td>\n",
              "      <td>117.1</td>\n",
              "      <td>13.6</td>\n",
              "      <td>1997-1998</td>\n",
              "      <td>No</td>\n",
              "    </tr>\n",
              "    <tr>\n",
              "      <th>3</th>\n",
              "      <td>4</td>\n",
              "      <td>L.A.Lakers</td>\n",
              "      <td>95</td>\n",
              "      <td>48.3</td>\n",
              "      <td>104.8</td>\n",
              "      <td>42.9</td>\n",
              "      <td>24.3</td>\n",
              "      <td>8.7</td>\n",
              "      <td>6.8</td>\n",
              "      <td>14.7</td>\n",
              "      <td>22.9</td>\n",
              "      <td>29.7</td>\n",
              "      <td>13.2</td>\n",
              "      <td>0.480</td>\n",
              "      <td>0.350</td>\n",
              "      <td>0.675</td>\n",
              "      <td>120.8</td>\n",
              "      <td>13.2</td>\n",
              "      <td>1997-1998</td>\n",
              "      <td>No</td>\n",
              "    </tr>\n",
              "    <tr>\n",
              "      <th>4</th>\n",
              "      <td>5</td>\n",
              "      <td>San Antonio</td>\n",
              "      <td>91</td>\n",
              "      <td>48.4</td>\n",
              "      <td>92.5</td>\n",
              "      <td>44.1</td>\n",
              "      <td>21.9</td>\n",
              "      <td>6.2</td>\n",
              "      <td>6.9</td>\n",
              "      <td>15.3</td>\n",
              "      <td>21.2</td>\n",
              "      <td>32.2</td>\n",
              "      <td>11.9</td>\n",
              "      <td>0.468</td>\n",
              "      <td>0.344</td>\n",
              "      <td>0.688</td>\n",
              "      <td>108.0</td>\n",
              "      <td>13.1</td>\n",
              "      <td>1997-1998</td>\n",
              "      <td>No</td>\n",
              "    </tr>\n",
              "    <tr>\n",
              "      <th>5</th>\n",
              "      <td>6</td>\n",
              "      <td>Indiana</td>\n",
              "      <td>98</td>\n",
              "      <td>48.4</td>\n",
              "      <td>95.3</td>\n",
              "      <td>38.6</td>\n",
              "      <td>22.4</td>\n",
              "      <td>7.8</td>\n",
              "      <td>4.5</td>\n",
              "      <td>13.6</td>\n",
              "      <td>23.0</td>\n",
              "      <td>28.2</td>\n",
              "      <td>10.4</td>\n",
              "      <td>0.468</td>\n",
              "      <td>0.387</td>\n",
              "      <td>0.763</td>\n",
              "      <td>109.0</td>\n",
              "      <td>12.2</td>\n",
              "      <td>1997-1998</td>\n",
              "      <td>No</td>\n",
              "    </tr>\n",
              "    <tr>\n",
              "      <th>6</th>\n",
              "      <td>7</td>\n",
              "      <td>Miami</td>\n",
              "      <td>87</td>\n",
              "      <td>48.2</td>\n",
              "      <td>94.5</td>\n",
              "      <td>41.7</td>\n",
              "      <td>21.1</td>\n",
              "      <td>8.0</td>\n",
              "      <td>5.2</td>\n",
              "      <td>14.2</td>\n",
              "      <td>24.2</td>\n",
              "      <td>29.4</td>\n",
              "      <td>12.3</td>\n",
              "      <td>0.449</td>\n",
              "      <td>0.355</td>\n",
              "      <td>0.735</td>\n",
              "      <td>107.4</td>\n",
              "      <td>10.0</td>\n",
              "      <td>1997-1998</td>\n",
              "      <td>No</td>\n",
              "    </tr>\n",
              "    <tr>\n",
              "      <th>7</th>\n",
              "      <td>8</td>\n",
              "      <td>Seattle</td>\n",
              "      <td>92</td>\n",
              "      <td>48.2</td>\n",
              "      <td>100.0</td>\n",
              "      <td>38.5</td>\n",
              "      <td>24.0</td>\n",
              "      <td>9.7</td>\n",
              "      <td>4.5</td>\n",
              "      <td>13.4</td>\n",
              "      <td>22.3</td>\n",
              "      <td>27.0</td>\n",
              "      <td>11.5</td>\n",
              "      <td>0.471</td>\n",
              "      <td>0.390</td>\n",
              "      <td>0.724</td>\n",
              "      <td>114.5</td>\n",
              "      <td>9.4</td>\n",
              "      <td>1997-1998</td>\n",
              "      <td>No</td>\n",
              "    </tr>\n",
              "    <tr>\n",
              "      <th>8</th>\n",
              "      <td>9</td>\n",
              "      <td>Atlanta</td>\n",
              "      <td>86</td>\n",
              "      <td>48.5</td>\n",
              "      <td>95.5</td>\n",
              "      <td>42.8</td>\n",
              "      <td>19.0</td>\n",
              "      <td>8.0</td>\n",
              "      <td>5.9</td>\n",
              "      <td>14.0</td>\n",
              "      <td>20.5</td>\n",
              "      <td>29.5</td>\n",
              "      <td>13.4</td>\n",
              "      <td>0.454</td>\n",
              "      <td>0.335</td>\n",
              "      <td>0.753</td>\n",
              "      <td>108.1</td>\n",
              "      <td>7.3</td>\n",
              "      <td>1997-1998</td>\n",
              "      <td>No</td>\n",
              "    </tr>\n",
              "    <tr>\n",
              "      <th>9</th>\n",
              "      <td>10</td>\n",
              "      <td>New York</td>\n",
              "      <td>92</td>\n",
              "      <td>48.4</td>\n",
              "      <td>91.3</td>\n",
              "      <td>41.4</td>\n",
              "      <td>21.5</td>\n",
              "      <td>7.8</td>\n",
              "      <td>3.2</td>\n",
              "      <td>14.7</td>\n",
              "      <td>24.1</td>\n",
              "      <td>29.6</td>\n",
              "      <td>11.8</td>\n",
              "      <td>0.446</td>\n",
              "      <td>0.341</td>\n",
              "      <td>0.771</td>\n",
              "      <td>102.3</td>\n",
              "      <td>7.2</td>\n",
              "      <td>1997-1998</td>\n",
              "      <td>No</td>\n",
              "    </tr>\n",
              "  </tbody>\n",
              "</table>\n",
              "</div>\n",
              "      <button class=\"colab-df-convert\" onclick=\"convertToInteractive('df-d7b51db0-bf2d-41ea-8a33-3b69baa3b731')\"\n",
              "              title=\"Convert this dataframe to an interactive table.\"\n",
              "              style=\"display:none;\">\n",
              "        \n",
              "  <svg xmlns=\"http://www.w3.org/2000/svg\" height=\"24px\"viewBox=\"0 0 24 24\"\n",
              "       width=\"24px\">\n",
              "    <path d=\"M0 0h24v24H0V0z\" fill=\"none\"/>\n",
              "    <path d=\"M18.56 5.44l.94 2.06.94-2.06 2.06-.94-2.06-.94-.94-2.06-.94 2.06-2.06.94zm-11 1L8.5 8.5l.94-2.06 2.06-.94-2.06-.94L8.5 2.5l-.94 2.06-2.06.94zm10 10l.94 2.06.94-2.06 2.06-.94-2.06-.94-.94-2.06-.94 2.06-2.06.94z\"/><path d=\"M17.41 7.96l-1.37-1.37c-.4-.4-.92-.59-1.43-.59-.52 0-1.04.2-1.43.59L10.3 9.45l-7.72 7.72c-.78.78-.78 2.05 0 2.83L4 21.41c.39.39.9.59 1.41.59.51 0 1.02-.2 1.41-.59l7.78-7.78 2.81-2.81c.8-.78.8-2.07 0-2.86zM5.41 20L4 18.59l7.72-7.72 1.47 1.35L5.41 20z\"/>\n",
              "  </svg>\n",
              "      </button>\n",
              "      \n",
              "  <style>\n",
              "    .colab-df-container {\n",
              "      display:flex;\n",
              "      flex-wrap:wrap;\n",
              "      gap: 12px;\n",
              "    }\n",
              "\n",
              "    .colab-df-convert {\n",
              "      background-color: #E8F0FE;\n",
              "      border: none;\n",
              "      border-radius: 50%;\n",
              "      cursor: pointer;\n",
              "      display: none;\n",
              "      fill: #1967D2;\n",
              "      height: 32px;\n",
              "      padding: 0 0 0 0;\n",
              "      width: 32px;\n",
              "    }\n",
              "\n",
              "    .colab-df-convert:hover {\n",
              "      background-color: #E2EBFA;\n",
              "      box-shadow: 0px 1px 2px rgba(60, 64, 67, 0.3), 0px 1px 3px 1px rgba(60, 64, 67, 0.15);\n",
              "      fill: #174EA6;\n",
              "    }\n",
              "\n",
              "    [theme=dark] .colab-df-convert {\n",
              "      background-color: #3B4455;\n",
              "      fill: #D2E3FC;\n",
              "    }\n",
              "\n",
              "    [theme=dark] .colab-df-convert:hover {\n",
              "      background-color: #434B5C;\n",
              "      box-shadow: 0px 1px 3px 1px rgba(0, 0, 0, 0.15);\n",
              "      filter: drop-shadow(0px 1px 2px rgba(0, 0, 0, 0.3));\n",
              "      fill: #FFFFFF;\n",
              "    }\n",
              "  </style>\n",
              "\n",
              "      <script>\n",
              "        const buttonEl =\n",
              "          document.querySelector('#df-d7b51db0-bf2d-41ea-8a33-3b69baa3b731 button.colab-df-convert');\n",
              "        buttonEl.style.display =\n",
              "          google.colab.kernel.accessAllowed ? 'block' : 'none';\n",
              "\n",
              "        async function convertToInteractive(key) {\n",
              "          const element = document.querySelector('#df-d7b51db0-bf2d-41ea-8a33-3b69baa3b731');\n",
              "          const dataTable =\n",
              "            await google.colab.kernel.invokeFunction('convertToInteractive',\n",
              "                                                     [key], {});\n",
              "          if (!dataTable) return;\n",
              "\n",
              "          const docLinkHtml = 'Like what you see? Visit the ' +\n",
              "            '<a target=\"_blank\" href=https://colab.research.google.com/notebooks/data_table.ipynb>data table notebook</a>'\n",
              "            + ' to learn more about interactive tables.';\n",
              "          element.innerHTML = '';\n",
              "          dataTable['output_type'] = 'display_data';\n",
              "          await google.colab.output.renderOutput(dataTable, element);\n",
              "          const docLink = document.createElement('div');\n",
              "          docLink.innerHTML = docLinkHtml;\n",
              "          element.appendChild(docLink);\n",
              "        }\n",
              "      </script>\n",
              "    </div>\n",
              "  </div>\n",
              "  "
            ]
          },
          "metadata": {},
          "execution_count": 2
        }
      ]
    },
    {
      "cell_type": "markdown",
      "source": [
        "## Part 2: Preprocessing Step\n",
        "\n",
        "1. Dropping columns: \"No\", \"Team\", \"Year\"\n",
        "2. Using `preprocessing` to scale the data\n",
        "3. Implementing One Hot Encoding for \"Won\" column"
      ],
      "metadata": {
        "id": "XgjiWSPqhUBi"
      }
    },
    {
      "cell_type": "code",
      "source": [
        "df = df.drop(columns=['No', 'Team', 'Year'])"
      ],
      "metadata": {
        "id": "-SHyHb33Mam5"
      },
      "execution_count": 3,
      "outputs": []
    },
    {
      "cell_type": "markdown",
      "source": [
        "#### Converting df to data(<np.ndarray>)"
      ],
      "metadata": {
        "id": "tzUsBKDoCnji"
      }
    },
    {
      "cell_type": "code",
      "source": [
        "xnames = ['G','Min','Pts','Reb','Ast','Stl','Blk','To','Pf','Dreb','Oreb','FGPct','3PPct','FTPct','Eff','Deff']\n",
        "X = np.array(df[xnames]) # X now contains all the features\n",
        "y = np.array(df[['Won']]) # X now contains all the labels"
      ],
      "metadata": {
        "id": "oqivCDPYRrAc"
      },
      "execution_count": 4,
      "outputs": []
    },
    {
      "cell_type": "markdown",
      "source": [
        "#### One Hot Encoding\n"
      ],
      "metadata": {
        "id": "-HJLi2BTDDYE"
      }
    },
    {
      "cell_type": "code",
      "source": [
        "one_hot_encoding = OneHotEncoder()\n",
        "y_transformed = one_hot_encoding.fit_transform(y)\n",
        "y = (y_transformed.toarray())[:,1].reshape(X.shape[0],1)"
      ],
      "metadata": {
        "id": "0Gel-ZVkDD66"
      },
      "execution_count": 5,
      "outputs": []
    },
    {
      "cell_type": "markdown",
      "source": [
        "#### Training and Validation Set\n",
        "Splitting the data in 75% training and 25% test data. "
      ],
      "metadata": {
        "id": "fo03lGBuDZ1T"
      }
    },
    {
      "cell_type": "code",
      "source": [
        "# Preprocessing \n",
        "X_scale = preprocessing.scale(X)\n",
        "X_train, X_test, y_train, y_test = train_test_split(X_scale, y, test_size=0.25, train_size=0.75, random_state=42)\n",
        "y_2d_train = y_train.reshape(y_train.size,1)\n",
        "y_2d_test = y_test.reshape(y_test.size,1)\n",
        "\n",
        "scaler = StandardScaler()\n",
        "X_train= scaler.fit_transform(X_train)\n",
        "X_test = scaler.transform(X_test)"
      ],
      "metadata": {
        "id": "3ARRKajkZ4z_"
      },
      "execution_count": 6,
      "outputs": []
    },
    {
      "cell_type": "code",
      "source": [
        "print('X_train.shape: ', X_train.shape)\n",
        "print('y_2d_train.shape: ', y_2d_train.shape)"
      ],
      "metadata": {
        "colab": {
          "base_uri": "https://localhost:8080/"
        },
        "id": "F6UEb_BMap4t",
        "outputId": "3448cc92-ff18-4d5a-85e0-b548b8b736e4"
      },
      "execution_count": 9,
      "outputs": [
        {
          "output_type": "stream",
          "name": "stdout",
          "text": [
            "X_train.shape:  (543, 16)\n",
            "y_2d_train.shape:  (543, 1)\n"
          ]
        }
      ]
    },
    {
      "cell_type": "code",
      "source": [
        "df.hist(bins = 15, figsize=(15, 10))\n",
        "plt.show()"
      ],
      "metadata": {
        "colab": {
          "base_uri": "https://localhost:8080/",
          "height": 607
        },
        "id": "Gzw5RHQ3QlOg",
        "outputId": "38a74878-3f2d-449f-efa1-0895a4da6888"
      },
      "execution_count": 53,
      "outputs": [
        {
          "output_type": "display_data",
          "data": {
            "text/plain": [
              "<Figure size 1080x720 with 16 Axes>"
            ],
            "image/png": "[encoded data removed]"
          },
          "metadata": {
            "needs_background": "light"
          }
        }
      ]
    },
    {
      "cell_type": "code",
      "source": [
        "#df.hist(bins = 15, figsize=(15, 10))\n",
        "plt.hist(X_train, bins=6, range=None, weights=None, density=None)\n",
        "plt.title(\"Histogram for X_train\")\n",
        "plt.show()\n",
        "plt.hist(X_test, bins =5) \n",
        "plt.title(\"Histogram for X_test\")\n",
        "plt.show()"
      ],
      "metadata": {
        "colab": {
          "base_uri": "https://localhost:8080/",
          "height": 545
        },
        "id": "q9TKTFKmF6mk",
        "outputId": "d4f8bbb6-96f8-40c7-c681-c943e0ccc21d"
      },
      "execution_count": 52,
      "outputs": [
        {
          "output_type": "display_data",
          "data": {
            "text/plain": [
              "<Figure size 432x288 with 1 Axes>"
            ],
            "image/png": "[encoded data removed]"
          },
          "metadata": {
            "needs_background": "light"
          }
        },
        {
          "output_type": "display_data",
          "data": {
            "text/plain": [
              "<Figure size 432x288 with 1 Axes>"
            ],
            "image/png": "[encoded data removed]"
          },
          "metadata": {
            "needs_background": "light"
          }
        }
      ]
    },
    {
      "cell_type": "markdown",
      "source": [
        "# Part 2: Models"
      ],
      "metadata": {
        "id": "JwA35QPobLA4"
      }
    },
    {
      "cell_type": "markdown",
      "source": [
        "## Logistic Regression"
      ],
      "metadata": {
        "id": "ENtDEVNmDUiN"
      }
    },
    {
      "cell_type": "markdown",
      "source": [
        "**logistic regresssion with $L2$ regularization**"
      ],
      "metadata": {
        "id": "TEWSlrJGaXon"
      }
    },
    {
      "cell_type": "code",
      "source": [
        "# Create object of logistic regression model.\n",
        "logreg = LogisticRegression(C=100000000, penalty='l2', max_iter=100000)\n",
        "logreg.fit(X_train, y_train.reshape(y_train.shape[0]))\n",
        "y_hat_logreg = logreg.predict(X_test)\n",
        "acc_logreg = logreg.score(X_test, y_test)\n",
        "\n",
        "print(\"Accuracy on training data = %.10f\" % acc_logreg)"
      ],
      "metadata": {
        "colab": {
          "base_uri": "https://localhost:8080/"
        },
        "id": "Mqz_Vq_LWeRX",
        "outputId": "bd54ccf7-a0de-42f8-96a7-22c335155031"
      },
      "execution_count": null,
      "outputs": [
        {
          "output_type": "stream",
          "name": "stdout",
          "text": [
            "Accuracy on training data = 0.9395604396\n"
          ]
        }
      ]
    },
    {
      "cell_type": "code",
      "source": [
        "intercept_logreg = logreg.intercept_\n",
        "print('intercept_logreg: ', intercept_logreg)\n",
        "\n",
        "w_logreg = logreg.coef_\n",
        "data = {'feature': xnames, 'slope': np.squeeze(w_logreg)}\n",
        "dfslope = pd.DataFrame(data=data)\n",
        "dfslope"
      ],
      "metadata": {
        "colab": {
          "base_uri": "https://localhost:8080/",
          "height": 568
        },
        "id": "C5_e2NUNnuar",
        "outputId": "e675c416-37e0-49f3-df66-be244fe4819d"
      },
      "execution_count": null,
      "outputs": [
        {
          "output_type": "stream",
          "name": "stdout",
          "text": [
            "intercept_logreg:  [-11.93591382]\n"
          ]
        },
        {
          "output_type": "execute_result",
          "data": {
            "text/plain": [
              "   feature      slope\n",
              "0        G   1.517982\n",
              "1      Min   0.189517\n",
              "2      Pts   7.814770\n",
              "3      Reb  22.716968\n",
              "4      Ast   1.205878\n",
              "5      Stl   0.646503\n",
              "6      Blk  -0.196428\n",
              "7       To  -0.634610\n",
              "8       Pf  -1.023742\n",
              "9     Dreb -24.704170\n",
              "10    Oreb -16.074312\n",
              "11   FGPct   0.698447\n",
              "12   3PPct  -1.374803\n",
              "13   FTPct  -0.528225\n",
              "14     Eff -10.977937\n",
              "15    Deff   7.903341"
            ],
            "text/html": [
              "\n",
              "  <div id=\"df-22713444-076b-4b81-a221-452b3731090d\">\n",
              "    <div class=\"colab-df-container\">\n",
              "      <div>\n",
              "<style scoped>\n",
              "    .dataframe tbody tr th:only-of-type {\n",
              "        vertical-align: middle;\n",
              "    }\n",
              "\n",
              "    .dataframe tbody tr th {\n",
              "        vertical-align: top;\n",
              "    }\n",
              "\n",
              "    .dataframe thead th {\n",
              "        text-align: right;\n",
              "    }\n",
              "</style>\n",
              "<table border=\"1\" class=\"dataframe\">\n",
              "  <thead>\n",
              "    <tr style=\"text-align: right;\">\n",
              "      <th></th>\n",
              "      <th>feature</th>\n",
              "      <th>slope</th>\n",
              "    </tr>\n",
              "  </thead>\n",
              "  <tbody>\n",
              "    <tr>\n",
              "      <th>0</th>\n",
              "      <td>G</td>\n",
              "      <td>1.517982</td>\n",
              "    </tr>\n",
              "    <tr>\n",
              "      <th>1</th>\n",
              "      <td>Min</td>\n",
              "      <td>0.189517</td>\n",
              "    </tr>\n",
              "    <tr>\n",
              "      <th>2</th>\n",
              "      <td>Pts</td>\n",
              "      <td>7.814770</td>\n",
              "    </tr>\n",
              "    <tr>\n",
              "      <th>3</th>\n",
              "      <td>Reb</td>\n",
              "      <td>22.716968</td>\n",
              "    </tr>\n",
              "    <tr>\n",
              "      <th>4</th>\n",
              "      <td>Ast</td>\n",
              "      <td>1.205878</td>\n",
              "    </tr>\n",
              "    <tr>\n",
              "      <th>5</th>\n",
              "      <td>Stl</td>\n",
              "      <td>0.646503</td>\n",
              "    </tr>\n",
              "    <tr>\n",
              "      <th>6</th>\n",
              "      <td>Blk</td>\n",
              "      <td>-0.196428</td>\n",
              "    </tr>\n",
              "    <tr>\n",
              "      <th>7</th>\n",
              "      <td>To</td>\n",
              "      <td>-0.634610</td>\n",
              "    </tr>\n",
              "    <tr>\n",
              "      <th>8</th>\n",
              "      <td>Pf</td>\n",
              "      <td>-1.023742</td>\n",
              "    </tr>\n",
              "    <tr>\n",
              "      <th>9</th>\n",
              "      <td>Dreb</td>\n",
              "      <td>-24.704170</td>\n",
              "    </tr>\n",
              "    <tr>\n",
              "      <th>10</th>\n",
              "      <td>Oreb</td>\n",
              "      <td>-16.074312</td>\n",
              "    </tr>\n",
              "    <tr>\n",
              "      <th>11</th>\n",
              "      <td>FGPct</td>\n",
              "      <td>0.698447</td>\n",
              "    </tr>\n",
              "    <tr>\n",
              "      <th>12</th>\n",
              "      <td>3PPct</td>\n",
              "      <td>-1.374803</td>\n",
              "    </tr>\n",
              "    <tr>\n",
              "      <th>13</th>\n",
              "      <td>FTPct</td>\n",
              "      <td>-0.528225</td>\n",
              "    </tr>\n",
              "    <tr>\n",
              "      <th>14</th>\n",
              "      <td>Eff</td>\n",
              "      <td>-10.977937</td>\n",
              "    </tr>\n",
              "    <tr>\n",
              "      <th>15</th>\n",
              "      <td>Deff</td>\n",
              "      <td>7.903341</td>\n",
              "    </tr>\n",
              "  </tbody>\n",
              "</table>\n",
              "</div>\n",
              "      <button class=\"colab-df-convert\" onclick=\"convertToInteractive('df-22713444-076b-4b81-a221-452b3731090d')\"\n",
              "              title=\"Convert this dataframe to an interactive table.\"\n",
              "              style=\"display:none;\">\n",
              "        \n",
              "  <svg xmlns=\"http://www.w3.org/2000/svg\" height=\"24px\"viewBox=\"0 0 24 24\"\n",
              "       width=\"24px\">\n",
              "    <path d=\"M0 0h24v24H0V0z\" fill=\"none\"/>\n",
              "    <path d=\"M18.56 5.44l.94 2.06.94-2.06 2.06-.94-2.06-.94-.94-2.06-.94 2.06-2.06.94zm-11 1L8.5 8.5l.94-2.06 2.06-.94-2.06-.94L8.5 2.5l-.94 2.06-2.06.94zm10 10l.94 2.06.94-2.06 2.06-.94-2.06-.94-.94-2.06-.94 2.06-2.06.94z\"/><path d=\"M17.41 7.96l-1.37-1.37c-.4-.4-.92-.59-1.43-.59-.52 0-1.04.2-1.43.59L10.3 9.45l-7.72 7.72c-.78.78-.78 2.05 0 2.83L4 21.41c.39.39.9.59 1.41.59.51 0 1.02-.2 1.41-.59l7.78-7.78 2.81-2.81c.8-.78.8-2.07 0-2.86zM5.41 20L4 18.59l7.72-7.72 1.47 1.35L5.41 20z\"/>\n",
              "  </svg>\n",
              "      </button>\n",
              "      \n",
              "  <style>\n",
              "    .colab-df-container {\n",
              "      display:flex;\n",
              "      flex-wrap:wrap;\n",
              "      gap: 12px;\n",
              "    }\n",
              "\n",
              "    .colab-df-convert {\n",
              "      background-color: #E8F0FE;\n",
              "      border: none;\n",
              "      border-radius: 50%;\n",
              "      cursor: pointer;\n",
              "      display: none;\n",
              "      fill: #1967D2;\n",
              "      height: 32px;\n",
              "      padding: 0 0 0 0;\n",
              "      width: 32px;\n",
              "    }\n",
              "\n",
              "    .colab-df-convert:hover {\n",
              "      background-color: #E2EBFA;\n",
              "      box-shadow: 0px 1px 2px rgba(60, 64, 67, 0.3), 0px 1px 3px 1px rgba(60, 64, 67, 0.15);\n",
              "      fill: #174EA6;\n",
              "    }\n",
              "\n",
              "    [theme=dark] .colab-df-convert {\n",
              "      background-color: #3B4455;\n",
              "      fill: #D2E3FC;\n",
              "    }\n",
              "\n",
              "    [theme=dark] .colab-df-convert:hover {\n",
              "      background-color: #434B5C;\n",
              "      box-shadow: 0px 1px 3px 1px rgba(0, 0, 0, 0.15);\n",
              "      filter: drop-shadow(0px 1px 2px rgba(0, 0, 0, 0.3));\n",
              "      fill: #FFFFFF;\n",
              "    }\n",
              "  </style>\n",
              "\n",
              "      <script>\n",
              "        const buttonEl =\n",
              "          document.querySelector('#df-22713444-076b-4b81-a221-452b3731090d button.colab-df-convert');\n",
              "        buttonEl.style.display =\n",
              "          google.colab.kernel.accessAllowed ? 'block' : 'none';\n",
              "\n",
              "        async function convertToInteractive(key) {\n",
              "          const element = document.querySelector('#df-22713444-076b-4b81-a221-452b3731090d');\n",
              "          const dataTable =\n",
              "            await google.colab.kernel.invokeFunction('convertToInteractive',\n",
              "                                                     [key], {});\n",
              "          if (!dataTable) return;\n",
              "\n",
              "          const docLinkHtml = 'Like what you see? Visit the ' +\n",
              "            '<a target=\"_blank\" href=https://colab.research.google.com/notebooks/data_table.ipynb>data table notebook</a>'\n",
              "            + ' to learn more about interactive tables.';\n",
              "          element.innerHTML = '';\n",
              "          dataTable['output_type'] = 'display_data';\n",
              "          await google.colab.output.renderOutput(dataTable, element);\n",
              "          const docLink = document.createElement('div');\n",
              "          docLink.innerHTML = docLinkHtml;\n",
              "          element.appendChild(docLink);\n",
              "        }\n",
              "      </script>\n",
              "    </div>\n",
              "  </div>\n",
              "  "
            ]
          },
          "metadata": {},
          "execution_count": 10
        }
      ]
    },
    {
      "cell_type": "code",
      "source": [
        "# For the test data - number of tpr, fpr, fnr, and tnr in the confusion matrix\n",
        "from sklearn.metrics import confusion_matrix\n",
        "confusion_matrix(y_hat_logreg, y_test)"
      ],
      "metadata": {
        "colab": {
          "base_uri": "https://localhost:8080/"
        },
        "id": "EE-xncArfd8d",
        "outputId": "2ca6f0f3-0b99-40cd-9550-a6c54fcf2dad"
      },
      "execution_count": null,
      "outputs": [
        {
          "output_type": "execute_result",
          "data": {
            "text/plain": [
              "array([[169,   5],\n",
              "       [  6,   2]])"
            ]
          },
          "metadata": {},
          "execution_count": 29
        }
      ]
    },
    {
      "cell_type": "code",
      "source": [
        "from numpy.lib.function_base import average\n",
        "from sklearn.metrics import precision_recall_fscore_support\n",
        "\n",
        "# Find Precision, recall and fscore using precision_recall_fscore_support method of sklearn\n",
        "support_Vec = precision_recall_fscore_support(y_test, y_hat_logreg, average = None)\n",
        "prec = support_Vec[0]\n",
        "recal = support_Vec[1]\n",
        "fscore = support_Vec[2]\n",
        "\n",
        "print('prec: ', prec[0])\n",
        "print('recal: ', recal[0])\n",
        "print('fscore: ', fscore[0])"
      ],
      "metadata": {
        "colab": {
          "base_uri": "https://localhost:8080/"
        },
        "id": "_IAlGuOJhcEW",
        "outputId": "0faf1abd-a84d-4928-de39-4d1247cd232a"
      },
      "execution_count": null,
      "outputs": [
        {
          "output_type": "stream",
          "name": "stdout",
          "text": [
            "prec:  0.9712643678160919\n",
            "recal:  0.9657142857142857\n",
            "fscore:  0.9684813753581661\n"
          ]
        }
      ]
    },
    {
      "cell_type": "markdown",
      "source": [
        "**logistic regresssion with 𝐿1 regularization**"
      ],
      "metadata": {
        "id": "Uz0w7PgmDeWd"
      }
    },
    {
      "cell_type": "code",
      "source": [
        "# Create object of logistic regression model.\n",
        "logreg = LogisticRegression(solver='liblinear', penalty='l1')\n",
        "logreg.fit(X_train, y_train.reshape(y_train.shape[0]))\n",
        "y_hat_logreg = logreg.predict(X_test)\n",
        "acc_logreg = logreg.score(X_test, y_test)\n",
        "\n",
        "print(\"Accuracy on training data = %.10f\" % acc_logreg)"
      ],
      "metadata": {
        "colab": {
          "base_uri": "https://localhost:8080/"
        },
        "id": "LG-ashbHDTGU",
        "outputId": "b1780de7-7abb-4fa0-cc85-30b102f07933"
      },
      "execution_count": null,
      "outputs": [
        {
          "output_type": "stream",
          "name": "stdout",
          "text": [
            "Accuracy on training data = 0.9670329670\n"
          ]
        }
      ]
    },
    {
      "cell_type": "code",
      "source": [
        "intercept_logreg = logreg.intercept_\n",
        "print('intercept_logreg: ', intercept_logreg)\n",
        "w_logreg = logreg.coef_\n",
        "data = {'feature': xnames, 'slope': np.squeeze(w_logreg)}\n",
        "dfslope = pd.DataFrame(data=data)\n",
        "dfslope"
      ],
      "metadata": {
        "colab": {
          "base_uri": "https://localhost:8080/",
          "height": 568
        },
        "id": "ShgdNt1ODm4i",
        "outputId": "30d689e6-fe5a-4d6c-e4cf-05f5d3f6ca3d"
      },
      "execution_count": null,
      "outputs": [
        {
          "output_type": "stream",
          "name": "stdout",
          "text": [
            "intercept_logreg:  [-6.34942114]\n"
          ]
        },
        {
          "output_type": "execute_result",
          "data": {
            "text/plain": [
              "   feature     slope\n",
              "0        G  1.052617\n",
              "1      Min  0.000000\n",
              "2      Pts  0.000000\n",
              "3      Reb -0.048858\n",
              "4      Ast -0.192244\n",
              "5      Stl  0.040212\n",
              "6      Blk -0.078747\n",
              "7       To -0.065966\n",
              "8       Pf -0.210102\n",
              "9     Dreb -0.014718\n",
              "10    Oreb  0.000000\n",
              "11   FGPct  0.000000\n",
              "12   3PPct -0.469159\n",
              "13   FTPct -0.617580\n",
              "14     Eff  0.000000\n",
              "15    Deff  2.507570"
            ],
            "text/html": [
              "\n",
              "  <div id=\"df-d3b036ff-619d-4649-bff7-9b02ec54445b\">\n",
              "    <div class=\"colab-df-container\">\n",
              "      <div>\n",
              "<style scoped>\n",
              "    .dataframe tbody tr th:only-of-type {\n",
              "        vertical-align: middle;\n",
              "    }\n",
              "\n",
              "    .dataframe tbody tr th {\n",
              "        vertical-align: top;\n",
              "    }\n",
              "\n",
              "    .dataframe thead th {\n",
              "        text-align: right;\n",
              "    }\n",
              "</style>\n",
              "<table border=\"1\" class=\"dataframe\">\n",
              "  <thead>\n",
              "    <tr style=\"text-align: right;\">\n",
              "      <th></th>\n",
              "      <th>feature</th>\n",
              "      <th>slope</th>\n",
              "    </tr>\n",
              "  </thead>\n",
              "  <tbody>\n",
              "    <tr>\n",
              "      <th>0</th>\n",
              "      <td>G</td>\n",
              "      <td>1.052617</td>\n",
              "    </tr>\n",
              "    <tr>\n",
              "      <th>1</th>\n",
              "      <td>Min</td>\n",
              "      <td>0.000000</td>\n",
              "    </tr>\n",
              "    <tr>\n",
              "      <th>2</th>\n",
              "      <td>Pts</td>\n",
              "      <td>0.000000</td>\n",
              "    </tr>\n",
              "    <tr>\n",
              "      <th>3</th>\n",
              "      <td>Reb</td>\n",
              "      <td>-0.048858</td>\n",
              "    </tr>\n",
              "    <tr>\n",
              "      <th>4</th>\n",
              "      <td>Ast</td>\n",
              "      <td>-0.192244</td>\n",
              "    </tr>\n",
              "    <tr>\n",
              "      <th>5</th>\n",
              "      <td>Stl</td>\n",
              "      <td>0.040212</td>\n",
              "    </tr>\n",
              "    <tr>\n",
              "      <th>6</th>\n",
              "      <td>Blk</td>\n",
              "      <td>-0.078747</td>\n",
              "    </tr>\n",
              "    <tr>\n",
              "      <th>7</th>\n",
              "      <td>To</td>\n",
              "      <td>-0.065966</td>\n",
              "    </tr>\n",
              "    <tr>\n",
              "      <th>8</th>\n",
              "      <td>Pf</td>\n",
              "      <td>-0.210102</td>\n",
              "    </tr>\n",
              "    <tr>\n",
              "      <th>9</th>\n",
              "      <td>Dreb</td>\n",
              "      <td>-0.014718</td>\n",
              "    </tr>\n",
              "    <tr>\n",
              "      <th>10</th>\n",
              "      <td>Oreb</td>\n",
              "      <td>0.000000</td>\n",
              "    </tr>\n",
              "    <tr>\n",
              "      <th>11</th>\n",
              "      <td>FGPct</td>\n",
              "      <td>0.000000</td>\n",
              "    </tr>\n",
              "    <tr>\n",
              "      <th>12</th>\n",
              "      <td>3PPct</td>\n",
              "      <td>-0.469159</td>\n",
              "    </tr>\n",
              "    <tr>\n",
              "      <th>13</th>\n",
              "      <td>FTPct</td>\n",
              "      <td>-0.617580</td>\n",
              "    </tr>\n",
              "    <tr>\n",
              "      <th>14</th>\n",
              "      <td>Eff</td>\n",
              "      <td>0.000000</td>\n",
              "    </tr>\n",
              "    <tr>\n",
              "      <th>15</th>\n",
              "      <td>Deff</td>\n",
              "      <td>2.507570</td>\n",
              "    </tr>\n",
              "  </tbody>\n",
              "</table>\n",
              "</div>\n",
              "      <button class=\"colab-df-convert\" onclick=\"convertToInteractive('df-d3b036ff-619d-4649-bff7-9b02ec54445b')\"\n",
              "              title=\"Convert this dataframe to an interactive table.\"\n",
              "              style=\"display:none;\">\n",
              "        \n",
              "  <svg xmlns=\"http://www.w3.org/2000/svg\" height=\"24px\"viewBox=\"0 0 24 24\"\n",
              "       width=\"24px\">\n",
              "    <path d=\"M0 0h24v24H0V0z\" fill=\"none\"/>\n",
              "    <path d=\"M18.56 5.44l.94 2.06.94-2.06 2.06-.94-2.06-.94-.94-2.06-.94 2.06-2.06.94zm-11 1L8.5 8.5l.94-2.06 2.06-.94-2.06-.94L8.5 2.5l-.94 2.06-2.06.94zm10 10l.94 2.06.94-2.06 2.06-.94-2.06-.94-.94-2.06-.94 2.06-2.06.94z\"/><path d=\"M17.41 7.96l-1.37-1.37c-.4-.4-.92-.59-1.43-.59-.52 0-1.04.2-1.43.59L10.3 9.45l-7.72 7.72c-.78.78-.78 2.05 0 2.83L4 21.41c.39.39.9.59 1.41.59.51 0 1.02-.2 1.41-.59l7.78-7.78 2.81-2.81c.8-.78.8-2.07 0-2.86zM5.41 20L4 18.59l7.72-7.72 1.47 1.35L5.41 20z\"/>\n",
              "  </svg>\n",
              "      </button>\n",
              "      \n",
              "  <style>\n",
              "    .colab-df-container {\n",
              "      display:flex;\n",
              "      flex-wrap:wrap;\n",
              "      gap: 12px;\n",
              "    }\n",
              "\n",
              "    .colab-df-convert {\n",
              "      background-color: #E8F0FE;\n",
              "      border: none;\n",
              "      border-radius: 50%;\n",
              "      cursor: pointer;\n",
              "      display: none;\n",
              "      fill: #1967D2;\n",
              "      height: 32px;\n",
              "      padding: 0 0 0 0;\n",
              "      width: 32px;\n",
              "    }\n",
              "\n",
              "    .colab-df-convert:hover {\n",
              "      background-color: #E2EBFA;\n",
              "      box-shadow: 0px 1px 2px rgba(60, 64, 67, 0.3), 0px 1px 3px 1px rgba(60, 64, 67, 0.15);\n",
              "      fill: #174EA6;\n",
              "    }\n",
              "\n",
              "    [theme=dark] .colab-df-convert {\n",
              "      background-color: #3B4455;\n",
              "      fill: #D2E3FC;\n",
              "    }\n",
              "\n",
              "    [theme=dark] .colab-df-convert:hover {\n",
              "      background-color: #434B5C;\n",
              "      box-shadow: 0px 1px 3px 1px rgba(0, 0, 0, 0.15);\n",
              "      filter: drop-shadow(0px 1px 2px rgba(0, 0, 0, 0.3));\n",
              "      fill: #FFFFFF;\n",
              "    }\n",
              "  </style>\n",
              "\n",
              "      <script>\n",
              "        const buttonEl =\n",
              "          document.querySelector('#df-d3b036ff-619d-4649-bff7-9b02ec54445b button.colab-df-convert');\n",
              "        buttonEl.style.display =\n",
              "          google.colab.kernel.accessAllowed ? 'block' : 'none';\n",
              "\n",
              "        async function convertToInteractive(key) {\n",
              "          const element = document.querySelector('#df-d3b036ff-619d-4649-bff7-9b02ec54445b');\n",
              "          const dataTable =\n",
              "            await google.colab.kernel.invokeFunction('convertToInteractive',\n",
              "                                                     [key], {});\n",
              "          if (!dataTable) return;\n",
              "\n",
              "          const docLinkHtml = 'Like what you see? Visit the ' +\n",
              "            '<a target=\"_blank\" href=https://colab.research.google.com/notebooks/data_table.ipynb>data table notebook</a>'\n",
              "            + ' to learn more about interactive tables.';\n",
              "          element.innerHTML = '';\n",
              "          dataTable['output_type'] = 'display_data';\n",
              "          await google.colab.output.renderOutput(dataTable, element);\n",
              "          const docLink = document.createElement('div');\n",
              "          docLink.innerHTML = docLinkHtml;\n",
              "          element.appendChild(docLink);\n",
              "        }\n",
              "      </script>\n",
              "    </div>\n",
              "  </div>\n",
              "  "
            ]
          },
          "metadata": {},
          "execution_count": 32
        }
      ]
    },
    {
      "cell_type": "code",
      "source": [
        "from numpy.lib.function_base import average\n",
        "from sklearn.metrics import precision_recall_fscore_support\n",
        "\n",
        "# Find Precision, recall and fscore using precision_recall_fscore_support method of sklearn\n",
        "support_Vec = precision_recall_fscore_support(y_test, y_hat_logreg, average = None)\n",
        "prec = support_Vec[0]\n",
        "recal = support_Vec[1]\n",
        "fscore = support_Vec[2]\n",
        "\n",
        "print('prec: ', prec[0])\n",
        "print('recal: ', recal[0])\n",
        "print('fscore: ', fscore[0])"
      ],
      "metadata": {
        "colab": {
          "base_uri": "https://localhost:8080/"
        },
        "id": "DSz7CgGhDwL5",
        "outputId": "7399cb55-5104-4170-c224-84b8d875604d"
      },
      "execution_count": null,
      "outputs": [
        {
          "output_type": "stream",
          "name": "stdout",
          "text": [
            "prec:  0.9668508287292817\n",
            "recal:  1.0\n",
            "fscore:  0.9831460674157304\n"
          ]
        }
      ]
    },
    {
      "cell_type": "markdown",
      "source": [
        "**logistic regresssion with no regularization**"
      ],
      "metadata": {
        "id": "5ZO0AvqcIYJa"
      }
    },
    {
      "cell_type": "code",
      "source": [
        "# Create object of logistic regression model.\n",
        "logreg = LogisticRegression(penalty='none', max_iter=100000)\n",
        "logreg.fit(X_train, y_train.reshape(y_train.shape[0]))\n",
        "y_hat_logreg = logreg.predict(X_test)\n",
        "acc_logreg = logreg.score(X_test, y_test)\n",
        "\n",
        "print(\"Accuracy on training data = %.10f\" % acc_logreg)"
      ],
      "metadata": {
        "colab": {
          "base_uri": "https://localhost:8080/"
        },
        "id": "Ct8sj0hxIgri",
        "outputId": "67ad8fce-dbb5-4e6b-9e59-ebe4ea574981"
      },
      "execution_count": null,
      "outputs": [
        {
          "output_type": "stream",
          "name": "stdout",
          "text": [
            "Accuracy on training data = 0.9395604396\n"
          ]
        }
      ]
    },
    {
      "cell_type": "code",
      "source": [
        "intercept_logreg = logreg.intercept_\n",
        "print('intercept_logreg: ', intercept_logreg)\n",
        "w_logreg = logreg.coef_\n",
        "data = {'feature': xnames, 'slope': np.squeeze(w_logreg)}\n",
        "dfslope = pd.DataFrame(data=data)\n",
        "dfslope"
      ],
      "metadata": {
        "colab": {
          "base_uri": "https://localhost:8080/",
          "height": 568
        },
        "id": "ZXdp-GhmIlu5",
        "outputId": "74e571db-19f1-4909-9393-3b0f77c4f19a"
      },
      "execution_count": null,
      "outputs": [
        {
          "output_type": "stream",
          "name": "stdout",
          "text": [
            "intercept_logreg:  [-11.93632599]\n"
          ]
        },
        {
          "output_type": "execute_result",
          "data": {
            "text/plain": [
              "   feature      slope\n",
              "0        G   1.518045\n",
              "1      Min   0.189660\n",
              "2      Pts   7.825029\n",
              "3      Reb  22.717086\n",
              "4      Ast   1.209010\n",
              "5      Stl   0.647333\n",
              "6      Blk  -0.195092\n",
              "7       To  -0.635847\n",
              "8       Pf  -1.023903\n",
              "9     Dreb -24.701997\n",
              "10    Oreb -16.073614\n",
              "11   FGPct   0.700404\n",
              "12   3PPct  -1.374937\n",
              "13   FTPct  -0.527021\n",
              "14     Eff -10.994693\n",
              "15    Deff   7.905138"
            ],
            "text/html": [
              "\n",
              "  <div id=\"df-4dc34143-7696-4223-abf3-f633ff538b30\">\n",
              "    <div class=\"colab-df-container\">\n",
              "      <div>\n",
              "<style scoped>\n",
              "    .dataframe tbody tr th:only-of-type {\n",
              "        vertical-align: middle;\n",
              "    }\n",
              "\n",
              "    .dataframe tbody tr th {\n",
              "        vertical-align: top;\n",
              "    }\n",
              "\n",
              "    .dataframe thead th {\n",
              "        text-align: right;\n",
              "    }\n",
              "</style>\n",
              "<table border=\"1\" class=\"dataframe\">\n",
              "  <thead>\n",
              "    <tr style=\"text-align: right;\">\n",
              "      <th></th>\n",
              "      <th>feature</th>\n",
              "      <th>slope</th>\n",
              "    </tr>\n",
              "  </thead>\n",
              "  <tbody>\n",
              "    <tr>\n",
              "      <th>0</th>\n",
              "      <td>G</td>\n",
              "      <td>1.518045</td>\n",
              "    </tr>\n",
              "    <tr>\n",
              "      <th>1</th>\n",
              "      <td>Min</td>\n",
              "      <td>0.189660</td>\n",
              "    </tr>\n",
              "    <tr>\n",
              "      <th>2</th>\n",
              "      <td>Pts</td>\n",
              "      <td>7.825029</td>\n",
              "    </tr>\n",
              "    <tr>\n",
              "      <th>3</th>\n",
              "      <td>Reb</td>\n",
              "      <td>22.717086</td>\n",
              "    </tr>\n",
              "    <tr>\n",
              "      <th>4</th>\n",
              "      <td>Ast</td>\n",
              "      <td>1.209010</td>\n",
              "    </tr>\n",
              "    <tr>\n",
              "      <th>5</th>\n",
              "      <td>Stl</td>\n",
              "      <td>0.647333</td>\n",
              "    </tr>\n",
              "    <tr>\n",
              "      <th>6</th>\n",
              "      <td>Blk</td>\n",
              "      <td>-0.195092</td>\n",
              "    </tr>\n",
              "    <tr>\n",
              "      <th>7</th>\n",
              "      <td>To</td>\n",
              "      <td>-0.635847</td>\n",
              "    </tr>\n",
              "    <tr>\n",
              "      <th>8</th>\n",
              "      <td>Pf</td>\n",
              "      <td>-1.023903</td>\n",
              "    </tr>\n",
              "    <tr>\n",
              "      <th>9</th>\n",
              "      <td>Dreb</td>\n",
              "      <td>-24.701997</td>\n",
              "    </tr>\n",
              "    <tr>\n",
              "      <th>10</th>\n",
              "      <td>Oreb</td>\n",
              "      <td>-16.073614</td>\n",
              "    </tr>\n",
              "    <tr>\n",
              "      <th>11</th>\n",
              "      <td>FGPct</td>\n",
              "      <td>0.700404</td>\n",
              "    </tr>\n",
              "    <tr>\n",
              "      <th>12</th>\n",
              "      <td>3PPct</td>\n",
              "      <td>-1.374937</td>\n",
              "    </tr>\n",
              "    <tr>\n",
              "      <th>13</th>\n",
              "      <td>FTPct</td>\n",
              "      <td>-0.527021</td>\n",
              "    </tr>\n",
              "    <tr>\n",
              "      <th>14</th>\n",
              "      <td>Eff</td>\n",
              "      <td>-10.994693</td>\n",
              "    </tr>\n",
              "    <tr>\n",
              "      <th>15</th>\n",
              "      <td>Deff</td>\n",
              "      <td>7.905138</td>\n",
              "    </tr>\n",
              "  </tbody>\n",
              "</table>\n",
              "</div>\n",
              "      <button class=\"colab-df-convert\" onclick=\"convertToInteractive('df-4dc34143-7696-4223-abf3-f633ff538b30')\"\n",
              "              title=\"Convert this dataframe to an interactive table.\"\n",
              "              style=\"display:none;\">\n",
              "        \n",
              "  <svg xmlns=\"http://www.w3.org/2000/svg\" height=\"24px\"viewBox=\"0 0 24 24\"\n",
              "       width=\"24px\">\n",
              "    <path d=\"M0 0h24v24H0V0z\" fill=\"none\"/>\n",
              "    <path d=\"M18.56 5.44l.94 2.06.94-2.06 2.06-.94-2.06-.94-.94-2.06-.94 2.06-2.06.94zm-11 1L8.5 8.5l.94-2.06 2.06-.94-2.06-.94L8.5 2.5l-.94 2.06-2.06.94zm10 10l.94 2.06.94-2.06 2.06-.94-2.06-.94-.94-2.06-.94 2.06-2.06.94z\"/><path d=\"M17.41 7.96l-1.37-1.37c-.4-.4-.92-.59-1.43-.59-.52 0-1.04.2-1.43.59L10.3 9.45l-7.72 7.72c-.78.78-.78 2.05 0 2.83L4 21.41c.39.39.9.59 1.41.59.51 0 1.02-.2 1.41-.59l7.78-7.78 2.81-2.81c.8-.78.8-2.07 0-2.86zM5.41 20L4 18.59l7.72-7.72 1.47 1.35L5.41 20z\"/>\n",
              "  </svg>\n",
              "      </button>\n",
              "      \n",
              "  <style>\n",
              "    .colab-df-container {\n",
              "      display:flex;\n",
              "      flex-wrap:wrap;\n",
              "      gap: 12px;\n",
              "    }\n",
              "\n",
              "    .colab-df-convert {\n",
              "      background-color: #E8F0FE;\n",
              "      border: none;\n",
              "      border-radius: 50%;\n",
              "      cursor: pointer;\n",
              "      display: none;\n",
              "      fill: #1967D2;\n",
              "      height: 32px;\n",
              "      padding: 0 0 0 0;\n",
              "      width: 32px;\n",
              "    }\n",
              "\n",
              "    .colab-df-convert:hover {\n",
              "      background-color: #E2EBFA;\n",
              "      box-shadow: 0px 1px 2px rgba(60, 64, 67, 0.3), 0px 1px 3px 1px rgba(60, 64, 67, 0.15);\n",
              "      fill: #174EA6;\n",
              "    }\n",
              "\n",
              "    [theme=dark] .colab-df-convert {\n",
              "      background-color: #3B4455;\n",
              "      fill: #D2E3FC;\n",
              "    }\n",
              "\n",
              "    [theme=dark] .colab-df-convert:hover {\n",
              "      background-color: #434B5C;\n",
              "      box-shadow: 0px 1px 3px 1px rgba(0, 0, 0, 0.15);\n",
              "      filter: drop-shadow(0px 1px 2px rgba(0, 0, 0, 0.3));\n",
              "      fill: #FFFFFF;\n",
              "    }\n",
              "  </style>\n",
              "\n",
              "      <script>\n",
              "        const buttonEl =\n",
              "          document.querySelector('#df-4dc34143-7696-4223-abf3-f633ff538b30 button.colab-df-convert');\n",
              "        buttonEl.style.display =\n",
              "          google.colab.kernel.accessAllowed ? 'block' : 'none';\n",
              "\n",
              "        async function convertToInteractive(key) {\n",
              "          const element = document.querySelector('#df-4dc34143-7696-4223-abf3-f633ff538b30');\n",
              "          const dataTable =\n",
              "            await google.colab.kernel.invokeFunction('convertToInteractive',\n",
              "                                                     [key], {});\n",
              "          if (!dataTable) return;\n",
              "\n",
              "          const docLinkHtml = 'Like what you see? Visit the ' +\n",
              "            '<a target=\"_blank\" href=https://colab.research.google.com/notebooks/data_table.ipynb>data table notebook</a>'\n",
              "            + ' to learn more about interactive tables.';\n",
              "          element.innerHTML = '';\n",
              "          dataTable['output_type'] = 'display_data';\n",
              "          await google.colab.output.renderOutput(dataTable, element);\n",
              "          const docLink = document.createElement('div');\n",
              "          docLink.innerHTML = docLinkHtml;\n",
              "          element.appendChild(docLink);\n",
              "        }\n",
              "      </script>\n",
              "    </div>\n",
              "  </div>\n",
              "  "
            ]
          },
          "metadata": {},
          "execution_count": 36
        }
      ]
    },
    {
      "cell_type": "code",
      "source": [
        "from numpy.lib.function_base import average\n",
        "from sklearn.metrics import precision_recall_fscore_support\n",
        "\n",
        "# Find Precision, recall and fscore using precision_recall_fscore_support method of sklearn\n",
        "support_Vec = precision_recall_fscore_support(y_test, y_hat_logreg, average = None)\n",
        "prec = support_Vec[0]\n",
        "recal = support_Vec[1]\n",
        "fscore = support_Vec[2]\n",
        "\n",
        "print('prec: ', prec[0])\n",
        "print('recal: ', recal[0])\n",
        "print('fscore: ', fscore[0])"
      ],
      "metadata": {
        "id": "i3llPwY9IpNX",
        "colab": {
          "base_uri": "https://localhost:8080/"
        },
        "outputId": "aff69402-e5ad-4978-f94c-94d440994118"
      },
      "execution_count": null,
      "outputs": [
        {
          "output_type": "stream",
          "name": "stdout",
          "text": [
            "prec:  0.9712643678160919\n",
            "recal:  0.9657142857142857\n",
            "fscore:  0.9684813753581661\n"
          ]
        }
      ]
    },
    {
      "cell_type": "markdown",
      "source": [
        "# Cross Validation\n",
        "Applying k-fold cross-validation to find the optimal C."
      ],
      "metadata": {
        "id": "prtgIqWUgKiY"
      }
    },
    {
      "cell_type": "code",
      "source": [
        "# l2 Regularization\n",
        "from sklearn.linear_model import LogisticRegressionCV\n",
        "\n",
        "k_fold = [2,3,4,5,6,7,8,9,10]\n",
        "optimal_c_l2 = []\n",
        "accuracy_scores_l2 = []\n",
        "\n",
        "print(\"Regularization l2:\")\n",
        "for i in k_fold:\n",
        "  logregCV = LogisticRegressionCV(cv = i, penalty ='l2', max_iter = 100000)\n",
        "  logregCV.fit(X_train, y_train.reshape(y_train.shape[0]))\n",
        "  score = logregCV.scores_[1].mean(axis=0).max()\n",
        "  accuracy_scores_l2.append(score)\n",
        "  index_max = logregCV.scores_[1].mean(axis=0).argmax()\n",
        "  optimal_c_l2.append(logregCV.Cs_[index_max])\n",
        "  print(\"k-fold:\", i, \"| Accuracy:\", score)\n",
        "\n",
        "print(\"Optimal C for l2:\", min(optimal_c_l2))\n",
        "print(\"Optimal λ for l1:\", 1/min(optimal_c_l2))"
      ],
      "metadata": {
        "colab": {
          "base_uri": "https://localhost:8080/"
        },
        "id": "L0FciYXJV2uH",
        "outputId": "591a97e9-d869-498e-d603-04b9e2233e6e"
      },
      "execution_count": null,
      "outputs": [
        {
          "output_type": "stream",
          "name": "stdout",
          "text": [
            "Regularization l2:\n",
            "k-fold: 2 | Accuracy: 0.9686889515953983\n",
            "k-fold: 3 | Accuracy: 0.9668508287292817\n",
            "k-fold: 4 | Accuracy: 0.9668572984749455\n",
            "k-fold: 5 | Accuracy: 0.9668705402650357\n",
            "k-fold: 6 | Accuracy: 0.9668498168498169\n",
            "k-fold: 7 | Accuracy: 0.9668902526045383\n",
            "k-fold: 8 | Accuracy: 0.9668843283582089\n",
            "k-fold: 9 | Accuracy: 0.9687006678809956\n",
            "k-fold: 10 | Accuracy: 0.9668686868686869\n",
            "Optimal C for l2: 0.0001\n",
            "Optimal λ for l1: 10000.0\n"
          ]
        }
      ]
    },
    {
      "cell_type": "code",
      "source": [
        "optimal_c_l1 = []\n",
        "accuracy_scores_l1 = []\n",
        "\n",
        "print(\"Regularization l1:\")\n",
        "for i in k_fold:\n",
        "  logregCV = LogisticRegressionCV(cv = i, solver='saga', penalty='l1', max_iter = 100000)\n",
        "  logregCV.fit(X_train, y_train.reshape(y_train.shape[0]))\n",
        "  score = logregCV.scores_[1].mean(axis=0).max()\n",
        "  accuracy_scores_l1.append(score)\n",
        "  index_max = logregCV.scores_[1].mean(axis=0).argmax()\n",
        "  optimal_c_l1.append(logregCV.Cs_[index_max])\n",
        "  print(\"k-fold:\", i, \"| Accuracy:\", score)\n",
        "\n",
        "print(\"Optimal C for l1:\", min(optimal_c_l1))\n",
        "print(\"Optimal λ for l1:\", 1/min(optimal_c_l1))"
      ],
      "metadata": {
        "colab": {
          "base_uri": "https://localhost:8080/"
        },
        "id": "yTjny0YXjw26",
        "outputId": "cd11eade-a44b-45ea-c128-3962f4e72ea4"
      },
      "execution_count": null,
      "outputs": [
        {
          "output_type": "stream",
          "name": "stdout",
          "text": [
            "Regularization l1:\n",
            "k-fold: 2 | Accuracy: 0.9668507163012807\n",
            "k-fold: 3 | Accuracy: 0.9705340699815839\n",
            "k-fold: 4 | Accuracy: 0.9687091503267974\n",
            "k-fold: 5 | Accuracy: 0.9705572545022086\n",
            "k-fold: 6 | Accuracy: 0.9705128205128205\n",
            "k-fold: 7 | Accuracy: 0.9705770420056133\n",
            "k-fold: 8 | Accuracy: 0.9705607989464443\n",
            "k-fold: 9 | Accuracy: 0.9705221615057682\n",
            "k-fold: 10 | Accuracy: 0.9705387205387206\n",
            "Optimal C for l1: 0.0001\n",
            "Optimal λ for l1: 10000.0\n"
          ]
        }
      ]
    },
    {
      "cell_type": "code",
      "source": [
        "plt.plot(k_fold,accuracy_scores_l2,'r--', label = \"L2 Accuracy\")\n",
        "plt.plot(k_fold,accuracy_scores_l1,'b--', label = \"L1 Accuracy\")\n",
        "plt.xlabel('k-fold')\n",
        "plt.ylabel('Accuracy')\n",
        "plt.legend()\n",
        "plt.show()"
      ],
      "metadata": {
        "colab": {
          "base_uri": "https://localhost:8080/",
          "height": 279
        },
        "id": "LxPCIPoMo6D6",
        "outputId": "f421cd36-4c64-4e56-9db7-69c6f37c1d52"
      },
      "execution_count": null,
      "outputs": [
        {
          "output_type": "display_data",
          "data": {
            "text/plain": [
              "<Figure size 432x288 with 1 Axes>"
            ],
            "image/png": "[encoded data removed]"
          },
          "metadata": {
            "needs_background": "light"
          }
        }
      ]
    }
  ]
}